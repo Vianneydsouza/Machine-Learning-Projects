{
  "nbformat": 4,
  "nbformat_minor": 0,
  "metadata": {
    "colab": {
      "provenance": [],
      "authorship_tag": "ABX9TyNc6R2mg4IB2BQcYdrCvJZN",
      "include_colab_link": true
    },
    "kernelspec": {
      "name": "python3",
      "display_name": "Python 3"
    },
    "language_info": {
      "name": "python"
    }
  },
  "cells": [
    {
      "cell_type": "markdown",
      "metadata": {
        "id": "view-in-github",
        "colab_type": "text"
      },
      "source": [
        "<a href=\"https://colab.research.google.com/github/Vianneydsouza/Machine-Learning-Projects/blob/main/NN_Project_Vianney_Dsouza.ipynb\" target=\"_parent\"><img src=\"https://colab.research.google.com/assets/colab-badge.svg\" alt=\"Open In Colab\"/></a>"
      ]
    },
    {
      "cell_type": "markdown",
      "source": [
        "#Project Done in Google Colab"
      ],
      "metadata": {
        "id": "Velx_kLSjHRW"
      }
    },
    {
      "cell_type": "code",
      "source": [
        "#importing necessary libraries\n",
        "import numpy as np\n",
        "import pandas as pd\n",
        "import matplotlib.pyplot as plt\n",
        "import seaborn as sns\n",
        "%matplotlib inline\n",
        "\n",
        "from sklearn.model_selection import train_test_split\n",
        "from sklearn import preprocessing\n",
        "from sklearn.preprocessing import MinMaxScaler, StandardScaler, RobustScaler\n",
        "from sklearn.preprocessing import OneHotEncoder\n",
        "import tensorflow as tf\n",
        "!pip install h5py\n",
        "import h5py"
      ],
      "metadata": {
        "id": "3vL8eCYyxAYN",
        "colab": {
          "base_uri": "https://localhost:8080/"
        },
        "outputId": "b64652f5-f42b-4b9b-98ab-0cf875d465a8"
      },
      "execution_count": null,
      "outputs": [
        {
          "output_type": "stream",
          "name": "stdout",
          "text": [
            "Requirement already satisfied: h5py in /usr/local/lib/python3.10/dist-packages (3.11.0)\n",
            "Requirement already satisfied: numpy>=1.17.3 in /usr/local/lib/python3.10/dist-packages (from h5py) (1.26.4)\n"
          ]
        }
      ]
    },
    {
      "cell_type": "code",
      "source": [
        "from google.colab import drive\n",
        "drive.mount('/content/drive')"
      ],
      "metadata": {
        "colab": {
          "base_uri": "https://localhost:8080/"
        },
        "id": "yJMcsOWExDpY",
        "outputId": "f8473105-420a-44a8-a3f4-6334ed7372ce"
      },
      "execution_count": null,
      "outputs": [
        {
          "output_type": "stream",
          "name": "stdout",
          "text": [
            "Mounted at /content/drive\n"
          ]
        }
      ]
    },
    {
      "cell_type": "markdown",
      "source": [
        "##Part A"
      ],
      "metadata": {
        "id": "pgD6FyLIC0tV"
      }
    },
    {
      "cell_type": "markdown",
      "source": [
        "###1. Data Import and Understanding"
      ],
      "metadata": {
        "id": "f5AIY3RljNHW"
      }
    },
    {
      "cell_type": "code",
      "source": [
        "df = pd.read_csv('/content/drive/MyDrive/python/CSV/NN Project Data - Signal.csv') #reading the data\n",
        "df.head(10)"
      ],
      "metadata": {
        "colab": {
          "base_uri": "https://localhost:8080/",
          "height": 363
        },
        "id": "Ze4o5k7fjuSd",
        "outputId": "031795bc-76be-44dc-dc80-ece83db6e895"
      },
      "execution_count": null,
      "outputs": [
        {
          "output_type": "execute_result",
          "data": {
            "text/plain": [
              "   Parameter 1  Parameter 2  Parameter 3  Parameter 4  Parameter 5  \\\n",
              "0          7.4         0.70         0.00          1.9        0.076   \n",
              "1          7.8         0.88         0.00          2.6        0.098   \n",
              "2          7.8         0.76         0.04          2.3        0.092   \n",
              "3         11.2         0.28         0.56          1.9        0.075   \n",
              "4          7.4         0.70         0.00          1.9        0.076   \n",
              "5          7.4         0.66         0.00          1.8        0.075   \n",
              "6          7.9         0.60         0.06          1.6        0.069   \n",
              "7          7.3         0.65         0.00          1.2        0.065   \n",
              "8          7.8         0.58         0.02          2.0        0.073   \n",
              "9          7.5         0.50         0.36          6.1        0.071   \n",
              "\n",
              "   Parameter 6  Parameter 7  Parameter 8  Parameter 9  Parameter 10  \\\n",
              "0         11.0         34.0       0.9978         3.51          0.56   \n",
              "1         25.0         67.0       0.9968         3.20          0.68   \n",
              "2         15.0         54.0       0.9970         3.26          0.65   \n",
              "3         17.0         60.0       0.9980         3.16          0.58   \n",
              "4         11.0         34.0       0.9978         3.51          0.56   \n",
              "5         13.0         40.0       0.9978         3.51          0.56   \n",
              "6         15.0         59.0       0.9964         3.30          0.46   \n",
              "7         15.0         21.0       0.9946         3.39          0.47   \n",
              "8          9.0         18.0       0.9968         3.36          0.57   \n",
              "9         17.0        102.0       0.9978         3.35          0.80   \n",
              "\n",
              "   Parameter 11  Signal_Strength  \n",
              "0           9.4                5  \n",
              "1           9.8                5  \n",
              "2           9.8                5  \n",
              "3           9.8                6  \n",
              "4           9.4                5  \n",
              "5           9.4                5  \n",
              "6           9.4                5  \n",
              "7          10.0                7  \n",
              "8           9.5                7  \n",
              "9          10.5                5  "
            ],
            "text/html": [
              "\n",
              "  <div id=\"df-b7a9b048-97cc-4b78-8db9-a816f10762ee\" class=\"colab-df-container\">\n",
              "    <div>\n",
              "<style scoped>\n",
              "    .dataframe tbody tr th:only-of-type {\n",
              "        vertical-align: middle;\n",
              "    }\n",
              "\n",
              "    .dataframe tbody tr th {\n",
              "        vertical-align: top;\n",
              "    }\n",
              "\n",
              "    .dataframe thead th {\n",
              "        text-align: right;\n",
              "    }\n",
              "</style>\n",
              "<table border=\"1\" class=\"dataframe\">\n",
              "  <thead>\n",
              "    <tr style=\"text-align: right;\">\n",
              "      <th></th>\n",
              "      <th>Parameter 1</th>\n",
              "      <th>Parameter 2</th>\n",
              "      <th>Parameter 3</th>\n",
              "      <th>Parameter 4</th>\n",
              "      <th>Parameter 5</th>\n",
              "      <th>Parameter 6</th>\n",
              "      <th>Parameter 7</th>\n",
              "      <th>Parameter 8</th>\n",
              "      <th>Parameter 9</th>\n",
              "      <th>Parameter 10</th>\n",
              "      <th>Parameter 11</th>\n",
              "      <th>Signal_Strength</th>\n",
              "    </tr>\n",
              "  </thead>\n",
              "  <tbody>\n",
              "    <tr>\n",
              "      <th>0</th>\n",
              "      <td>7.4</td>\n",
              "      <td>0.70</td>\n",
              "      <td>0.00</td>\n",
              "      <td>1.9</td>\n",
              "      <td>0.076</td>\n",
              "      <td>11.0</td>\n",
              "      <td>34.0</td>\n",
              "      <td>0.9978</td>\n",
              "      <td>3.51</td>\n",
              "      <td>0.56</td>\n",
              "      <td>9.4</td>\n",
              "      <td>5</td>\n",
              "    </tr>\n",
              "    <tr>\n",
              "      <th>1</th>\n",
              "      <td>7.8</td>\n",
              "      <td>0.88</td>\n",
              "      <td>0.00</td>\n",
              "      <td>2.6</td>\n",
              "      <td>0.098</td>\n",
              "      <td>25.0</td>\n",
              "      <td>67.0</td>\n",
              "      <td>0.9968</td>\n",
              "      <td>3.20</td>\n",
              "      <td>0.68</td>\n",
              "      <td>9.8</td>\n",
              "      <td>5</td>\n",
              "    </tr>\n",
              "    <tr>\n",
              "      <th>2</th>\n",
              "      <td>7.8</td>\n",
              "      <td>0.76</td>\n",
              "      <td>0.04</td>\n",
              "      <td>2.3</td>\n",
              "      <td>0.092</td>\n",
              "      <td>15.0</td>\n",
              "      <td>54.0</td>\n",
              "      <td>0.9970</td>\n",
              "      <td>3.26</td>\n",
              "      <td>0.65</td>\n",
              "      <td>9.8</td>\n",
              "      <td>5</td>\n",
              "    </tr>\n",
              "    <tr>\n",
              "      <th>3</th>\n",
              "      <td>11.2</td>\n",
              "      <td>0.28</td>\n",
              "      <td>0.56</td>\n",
              "      <td>1.9</td>\n",
              "      <td>0.075</td>\n",
              "      <td>17.0</td>\n",
              "      <td>60.0</td>\n",
              "      <td>0.9980</td>\n",
              "      <td>3.16</td>\n",
              "      <td>0.58</td>\n",
              "      <td>9.8</td>\n",
              "      <td>6</td>\n",
              "    </tr>\n",
              "    <tr>\n",
              "      <th>4</th>\n",
              "      <td>7.4</td>\n",
              "      <td>0.70</td>\n",
              "      <td>0.00</td>\n",
              "      <td>1.9</td>\n",
              "      <td>0.076</td>\n",
              "      <td>11.0</td>\n",
              "      <td>34.0</td>\n",
              "      <td>0.9978</td>\n",
              "      <td>3.51</td>\n",
              "      <td>0.56</td>\n",
              "      <td>9.4</td>\n",
              "      <td>5</td>\n",
              "    </tr>\n",
              "    <tr>\n",
              "      <th>5</th>\n",
              "      <td>7.4</td>\n",
              "      <td>0.66</td>\n",
              "      <td>0.00</td>\n",
              "      <td>1.8</td>\n",
              "      <td>0.075</td>\n",
              "      <td>13.0</td>\n",
              "      <td>40.0</td>\n",
              "      <td>0.9978</td>\n",
              "      <td>3.51</td>\n",
              "      <td>0.56</td>\n",
              "      <td>9.4</td>\n",
              "      <td>5</td>\n",
              "    </tr>\n",
              "    <tr>\n",
              "      <th>6</th>\n",
              "      <td>7.9</td>\n",
              "      <td>0.60</td>\n",
              "      <td>0.06</td>\n",
              "      <td>1.6</td>\n",
              "      <td>0.069</td>\n",
              "      <td>15.0</td>\n",
              "      <td>59.0</td>\n",
              "      <td>0.9964</td>\n",
              "      <td>3.30</td>\n",
              "      <td>0.46</td>\n",
              "      <td>9.4</td>\n",
              "      <td>5</td>\n",
              "    </tr>\n",
              "    <tr>\n",
              "      <th>7</th>\n",
              "      <td>7.3</td>\n",
              "      <td>0.65</td>\n",
              "      <td>0.00</td>\n",
              "      <td>1.2</td>\n",
              "      <td>0.065</td>\n",
              "      <td>15.0</td>\n",
              "      <td>21.0</td>\n",
              "      <td>0.9946</td>\n",
              "      <td>3.39</td>\n",
              "      <td>0.47</td>\n",
              "      <td>10.0</td>\n",
              "      <td>7</td>\n",
              "    </tr>\n",
              "    <tr>\n",
              "      <th>8</th>\n",
              "      <td>7.8</td>\n",
              "      <td>0.58</td>\n",
              "      <td>0.02</td>\n",
              "      <td>2.0</td>\n",
              "      <td>0.073</td>\n",
              "      <td>9.0</td>\n",
              "      <td>18.0</td>\n",
              "      <td>0.9968</td>\n",
              "      <td>3.36</td>\n",
              "      <td>0.57</td>\n",
              "      <td>9.5</td>\n",
              "      <td>7</td>\n",
              "    </tr>\n",
              "    <tr>\n",
              "      <th>9</th>\n",
              "      <td>7.5</td>\n",
              "      <td>0.50</td>\n",
              "      <td>0.36</td>\n",
              "      <td>6.1</td>\n",
              "      <td>0.071</td>\n",
              "      <td>17.0</td>\n",
              "      <td>102.0</td>\n",
              "      <td>0.9978</td>\n",
              "      <td>3.35</td>\n",
              "      <td>0.80</td>\n",
              "      <td>10.5</td>\n",
              "      <td>5</td>\n",
              "    </tr>\n",
              "  </tbody>\n",
              "</table>\n",
              "</div>\n",
              "    <div class=\"colab-df-buttons\">\n",
              "\n",
              "  <div class=\"colab-df-container\">\n",
              "    <button class=\"colab-df-convert\" onclick=\"convertToInteractive('df-b7a9b048-97cc-4b78-8db9-a816f10762ee')\"\n",
              "            title=\"Convert this dataframe to an interactive table.\"\n",
              "            style=\"display:none;\">\n",
              "\n",
              "  <svg xmlns=\"http://www.w3.org/2000/svg\" height=\"24px\" viewBox=\"0 -960 960 960\">\n",
              "    <path d=\"M120-120v-720h720v720H120Zm60-500h600v-160H180v160Zm220 220h160v-160H400v160Zm0 220h160v-160H400v160ZM180-400h160v-160H180v160Zm440 0h160v-160H620v160ZM180-180h160v-160H180v160Zm440 0h160v-160H620v160Z\"/>\n",
              "  </svg>\n",
              "    </button>\n",
              "\n",
              "  <style>\n",
              "    .colab-df-container {\n",
              "      display:flex;\n",
              "      gap: 12px;\n",
              "    }\n",
              "\n",
              "    .colab-df-convert {\n",
              "      background-color: #E8F0FE;\n",
              "      border: none;\n",
              "      border-radius: 50%;\n",
              "      cursor: pointer;\n",
              "      display: none;\n",
              "      fill: #1967D2;\n",
              "      height: 32px;\n",
              "      padding: 0 0 0 0;\n",
              "      width: 32px;\n",
              "    }\n",
              "\n",
              "    .colab-df-convert:hover {\n",
              "      background-color: #E2EBFA;\n",
              "      box-shadow: 0px 1px 2px rgba(60, 64, 67, 0.3), 0px 1px 3px 1px rgba(60, 64, 67, 0.15);\n",
              "      fill: #174EA6;\n",
              "    }\n",
              "\n",
              "    .colab-df-buttons div {\n",
              "      margin-bottom: 4px;\n",
              "    }\n",
              "\n",
              "    [theme=dark] .colab-df-convert {\n",
              "      background-color: #3B4455;\n",
              "      fill: #D2E3FC;\n",
              "    }\n",
              "\n",
              "    [theme=dark] .colab-df-convert:hover {\n",
              "      background-color: #434B5C;\n",
              "      box-shadow: 0px 1px 3px 1px rgba(0, 0, 0, 0.15);\n",
              "      filter: drop-shadow(0px 1px 2px rgba(0, 0, 0, 0.3));\n",
              "      fill: #FFFFFF;\n",
              "    }\n",
              "  </style>\n",
              "\n",
              "    <script>\n",
              "      const buttonEl =\n",
              "        document.querySelector('#df-b7a9b048-97cc-4b78-8db9-a816f10762ee button.colab-df-convert');\n",
              "      buttonEl.style.display =\n",
              "        google.colab.kernel.accessAllowed ? 'block' : 'none';\n",
              "\n",
              "      async function convertToInteractive(key) {\n",
              "        const element = document.querySelector('#df-b7a9b048-97cc-4b78-8db9-a816f10762ee');\n",
              "        const dataTable =\n",
              "          await google.colab.kernel.invokeFunction('convertToInteractive',\n",
              "                                                    [key], {});\n",
              "        if (!dataTable) return;\n",
              "\n",
              "        const docLinkHtml = 'Like what you see? Visit the ' +\n",
              "          '<a target=\"_blank\" href=https://colab.research.google.com/notebooks/data_table.ipynb>data table notebook</a>'\n",
              "          + ' to learn more about interactive tables.';\n",
              "        element.innerHTML = '';\n",
              "        dataTable['output_type'] = 'display_data';\n",
              "        await google.colab.output.renderOutput(dataTable, element);\n",
              "        const docLink = document.createElement('div');\n",
              "        docLink.innerHTML = docLinkHtml;\n",
              "        element.appendChild(docLink);\n",
              "      }\n",
              "    </script>\n",
              "  </div>\n",
              "\n",
              "\n",
              "<div id=\"df-6f8a6653-d353-46c5-9836-8c4189f5c796\">\n",
              "  <button class=\"colab-df-quickchart\" onclick=\"quickchart('df-6f8a6653-d353-46c5-9836-8c4189f5c796')\"\n",
              "            title=\"Suggest charts\"\n",
              "            style=\"display:none;\">\n",
              "\n",
              "<svg xmlns=\"http://www.w3.org/2000/svg\" height=\"24px\"viewBox=\"0 0 24 24\"\n",
              "     width=\"24px\">\n",
              "    <g>\n",
              "        <path d=\"M19 3H5c-1.1 0-2 .9-2 2v14c0 1.1.9 2 2 2h14c1.1 0 2-.9 2-2V5c0-1.1-.9-2-2-2zM9 17H7v-7h2v7zm4 0h-2V7h2v10zm4 0h-2v-4h2v4z\"/>\n",
              "    </g>\n",
              "</svg>\n",
              "  </button>\n",
              "\n",
              "<style>\n",
              "  .colab-df-quickchart {\n",
              "      --bg-color: #E8F0FE;\n",
              "      --fill-color: #1967D2;\n",
              "      --hover-bg-color: #E2EBFA;\n",
              "      --hover-fill-color: #174EA6;\n",
              "      --disabled-fill-color: #AAA;\n",
              "      --disabled-bg-color: #DDD;\n",
              "  }\n",
              "\n",
              "  [theme=dark] .colab-df-quickchart {\n",
              "      --bg-color: #3B4455;\n",
              "      --fill-color: #D2E3FC;\n",
              "      --hover-bg-color: #434B5C;\n",
              "      --hover-fill-color: #FFFFFF;\n",
              "      --disabled-bg-color: #3B4455;\n",
              "      --disabled-fill-color: #666;\n",
              "  }\n",
              "\n",
              "  .colab-df-quickchart {\n",
              "    background-color: var(--bg-color);\n",
              "    border: none;\n",
              "    border-radius: 50%;\n",
              "    cursor: pointer;\n",
              "    display: none;\n",
              "    fill: var(--fill-color);\n",
              "    height: 32px;\n",
              "    padding: 0;\n",
              "    width: 32px;\n",
              "  }\n",
              "\n",
              "  .colab-df-quickchart:hover {\n",
              "    background-color: var(--hover-bg-color);\n",
              "    box-shadow: 0 1px 2px rgba(60, 64, 67, 0.3), 0 1px 3px 1px rgba(60, 64, 67, 0.15);\n",
              "    fill: var(--button-hover-fill-color);\n",
              "  }\n",
              "\n",
              "  .colab-df-quickchart-complete:disabled,\n",
              "  .colab-df-quickchart-complete:disabled:hover {\n",
              "    background-color: var(--disabled-bg-color);\n",
              "    fill: var(--disabled-fill-color);\n",
              "    box-shadow: none;\n",
              "  }\n",
              "\n",
              "  .colab-df-spinner {\n",
              "    border: 2px solid var(--fill-color);\n",
              "    border-color: transparent;\n",
              "    border-bottom-color: var(--fill-color);\n",
              "    animation:\n",
              "      spin 1s steps(1) infinite;\n",
              "  }\n",
              "\n",
              "  @keyframes spin {\n",
              "    0% {\n",
              "      border-color: transparent;\n",
              "      border-bottom-color: var(--fill-color);\n",
              "      border-left-color: var(--fill-color);\n",
              "    }\n",
              "    20% {\n",
              "      border-color: transparent;\n",
              "      border-left-color: var(--fill-color);\n",
              "      border-top-color: var(--fill-color);\n",
              "    }\n",
              "    30% {\n",
              "      border-color: transparent;\n",
              "      border-left-color: var(--fill-color);\n",
              "      border-top-color: var(--fill-color);\n",
              "      border-right-color: var(--fill-color);\n",
              "    }\n",
              "    40% {\n",
              "      border-color: transparent;\n",
              "      border-right-color: var(--fill-color);\n",
              "      border-top-color: var(--fill-color);\n",
              "    }\n",
              "    60% {\n",
              "      border-color: transparent;\n",
              "      border-right-color: var(--fill-color);\n",
              "    }\n",
              "    80% {\n",
              "      border-color: transparent;\n",
              "      border-right-color: var(--fill-color);\n",
              "      border-bottom-color: var(--fill-color);\n",
              "    }\n",
              "    90% {\n",
              "      border-color: transparent;\n",
              "      border-bottom-color: var(--fill-color);\n",
              "    }\n",
              "  }\n",
              "</style>\n",
              "\n",
              "  <script>\n",
              "    async function quickchart(key) {\n",
              "      const quickchartButtonEl =\n",
              "        document.querySelector('#' + key + ' button');\n",
              "      quickchartButtonEl.disabled = true;  // To prevent multiple clicks.\n",
              "      quickchartButtonEl.classList.add('colab-df-spinner');\n",
              "      try {\n",
              "        const charts = await google.colab.kernel.invokeFunction(\n",
              "            'suggestCharts', [key], {});\n",
              "      } catch (error) {\n",
              "        console.error('Error during call to suggestCharts:', error);\n",
              "      }\n",
              "      quickchartButtonEl.classList.remove('colab-df-spinner');\n",
              "      quickchartButtonEl.classList.add('colab-df-quickchart-complete');\n",
              "    }\n",
              "    (() => {\n",
              "      let quickchartButtonEl =\n",
              "        document.querySelector('#df-6f8a6653-d353-46c5-9836-8c4189f5c796 button');\n",
              "      quickchartButtonEl.style.display =\n",
              "        google.colab.kernel.accessAllowed ? 'block' : 'none';\n",
              "    })();\n",
              "  </script>\n",
              "</div>\n",
              "\n",
              "    </div>\n",
              "  </div>\n"
            ],
            "application/vnd.google.colaboratory.intrinsic+json": {
              "type": "dataframe",
              "variable_name": "df",
              "summary": "{\n  \"name\": \"df\",\n  \"rows\": 1599,\n  \"fields\": [\n    {\n      \"column\": \"Parameter 1\",\n      \"properties\": {\n        \"dtype\": \"number\",\n        \"std\": 1.7410963181276953,\n        \"min\": 4.6,\n        \"max\": 15.9,\n        \"num_unique_values\": 96,\n        \"samples\": [\n          5.3,\n          12.7,\n          12.6\n        ],\n        \"semantic_type\": \"\",\n        \"description\": \"\"\n      }\n    },\n    {\n      \"column\": \"Parameter 2\",\n      \"properties\": {\n        \"dtype\": \"number\",\n        \"std\": 0.17905970415353537,\n        \"min\": 0.12,\n        \"max\": 1.58,\n        \"num_unique_values\": 143,\n        \"samples\": [\n          1.025,\n          0.4,\n          0.87\n        ],\n        \"semantic_type\": \"\",\n        \"description\": \"\"\n      }\n    },\n    {\n      \"column\": \"Parameter 3\",\n      \"properties\": {\n        \"dtype\": \"number\",\n        \"std\": 0.19480113740531857,\n        \"min\": 0.0,\n        \"max\": 1.0,\n        \"num_unique_values\": 80,\n        \"samples\": [\n          0.37,\n          0.0,\n          0.09\n        ],\n        \"semantic_type\": \"\",\n        \"description\": \"\"\n      }\n    },\n    {\n      \"column\": \"Parameter 4\",\n      \"properties\": {\n        \"dtype\": \"number\",\n        \"std\": 1.4099280595072798,\n        \"min\": 0.9,\n        \"max\": 15.5,\n        \"num_unique_values\": 91,\n        \"samples\": [\n          11.0,\n          3.0,\n          15.5\n        ],\n        \"semantic_type\": \"\",\n        \"description\": \"\"\n      }\n    },\n    {\n      \"column\": \"Parameter 5\",\n      \"properties\": {\n        \"dtype\": \"number\",\n        \"std\": 0.0470653020100901,\n        \"min\": 0.012,\n        \"max\": 0.611,\n        \"num_unique_values\": 153,\n        \"samples\": [\n          0.096,\n          0.343,\n          0.159\n        ],\n        \"semantic_type\": \"\",\n        \"description\": \"\"\n      }\n    },\n    {\n      \"column\": \"Parameter 6\",\n      \"properties\": {\n        \"dtype\": \"number\",\n        \"std\": 10.460156969809725,\n        \"min\": 1.0,\n        \"max\": 72.0,\n        \"num_unique_values\": 60,\n        \"samples\": [\n          11.0,\n          9.0,\n          32.0\n        ],\n        \"semantic_type\": \"\",\n        \"description\": \"\"\n      }\n    },\n    {\n      \"column\": \"Parameter 7\",\n      \"properties\": {\n        \"dtype\": \"number\",\n        \"std\": 32.895324478299074,\n        \"min\": 6.0,\n        \"max\": 289.0,\n        \"num_unique_values\": 144,\n        \"samples\": [\n          68.0,\n          35.0,\n          101.0\n        ],\n        \"semantic_type\": \"\",\n        \"description\": \"\"\n      }\n    },\n    {\n      \"column\": \"Parameter 8\",\n      \"properties\": {\n        \"dtype\": \"number\",\n        \"std\": 0.0018873339538425554,\n        \"min\": 0.99007,\n        \"max\": 1.00369,\n        \"num_unique_values\": 436,\n        \"samples\": [\n          0.99974,\n          1.0001,\n          0.99471\n        ],\n        \"semantic_type\": \"\",\n        \"description\": \"\"\n      }\n    },\n    {\n      \"column\": \"Parameter 9\",\n      \"properties\": {\n        \"dtype\": \"number\",\n        \"std\": 0.15438646490354277,\n        \"min\": 2.74,\n        \"max\": 4.01,\n        \"num_unique_values\": 89,\n        \"samples\": [\n          3.07,\n          3.0,\n          3.15\n        ],\n        \"semantic_type\": \"\",\n        \"description\": \"\"\n      }\n    },\n    {\n      \"column\": \"Parameter 10\",\n      \"properties\": {\n        \"dtype\": \"number\",\n        \"std\": 0.16950697959010996,\n        \"min\": 0.33,\n        \"max\": 2.0,\n        \"num_unique_values\": 96,\n        \"samples\": [\n          1.07,\n          1.04,\n          1.18\n        ],\n        \"semantic_type\": \"\",\n        \"description\": \"\"\n      }\n    },\n    {\n      \"column\": \"Parameter 11\",\n      \"properties\": {\n        \"dtype\": \"number\",\n        \"std\": 1.0656675818563988,\n        \"min\": 8.4,\n        \"max\": 14.9,\n        \"num_unique_values\": 65,\n        \"samples\": [\n          8.5,\n          9.95,\n          9.4\n        ],\n        \"semantic_type\": \"\",\n        \"description\": \"\"\n      }\n    },\n    {\n      \"column\": \"Signal_Strength\",\n      \"properties\": {\n        \"dtype\": \"number\",\n        \"std\": 0,\n        \"min\": 3,\n        \"max\": 8,\n        \"num_unique_values\": 6,\n        \"samples\": [\n          5,\n          6,\n          3\n        ],\n        \"semantic_type\": \"\",\n        \"description\": \"\"\n      }\n    }\n  ]\n}"
            }
          },
          "metadata": {},
          "execution_count": 3
        }
      ]
    },
    {
      "cell_type": "code",
      "source": [
        "df.info()"
      ],
      "metadata": {
        "colab": {
          "base_uri": "https://localhost:8080/"
        },
        "id": "2iRUz0p5j_01",
        "outputId": "33cedd00-3e9e-4647-bcb4-055de5c3bc9f"
      },
      "execution_count": null,
      "outputs": [
        {
          "output_type": "stream",
          "name": "stdout",
          "text": [
            "<class 'pandas.core.frame.DataFrame'>\n",
            "RangeIndex: 1599 entries, 0 to 1598\n",
            "Data columns (total 12 columns):\n",
            " #   Column           Non-Null Count  Dtype  \n",
            "---  ------           --------------  -----  \n",
            " 0   Parameter 1      1599 non-null   float64\n",
            " 1   Parameter 2      1599 non-null   float64\n",
            " 2   Parameter 3      1599 non-null   float64\n",
            " 3   Parameter 4      1599 non-null   float64\n",
            " 4   Parameter 5      1599 non-null   float64\n",
            " 5   Parameter 6      1599 non-null   float64\n",
            " 6   Parameter 7      1599 non-null   float64\n",
            " 7   Parameter 8      1599 non-null   float64\n",
            " 8   Parameter 9      1599 non-null   float64\n",
            " 9   Parameter 10     1599 non-null   float64\n",
            " 10  Parameter 11     1599 non-null   float64\n",
            " 11  Signal_Strength  1599 non-null   int64  \n",
            "dtypes: float64(11), int64(1)\n",
            "memory usage: 150.0 KB\n"
          ]
        }
      ]
    },
    {
      "cell_type": "code",
      "source": [
        "df.describe().T"
      ],
      "metadata": {
        "colab": {
          "base_uri": "https://localhost:8080/",
          "height": 425
        },
        "id": "3ANcZSCxkIj1",
        "outputId": "d98bedfb-830d-4b26-cba7-e8d376b683c0"
      },
      "execution_count": null,
      "outputs": [
        {
          "output_type": "execute_result",
          "data": {
            "text/plain": [
              "                  count       mean        std      min      25%       50%  \\\n",
              "Parameter 1      1599.0   8.319637   1.741096  4.60000   7.1000   7.90000   \n",
              "Parameter 2      1599.0   0.527821   0.179060  0.12000   0.3900   0.52000   \n",
              "Parameter 3      1599.0   0.270976   0.194801  0.00000   0.0900   0.26000   \n",
              "Parameter 4      1599.0   2.538806   1.409928  0.90000   1.9000   2.20000   \n",
              "Parameter 5      1599.0   0.087467   0.047065  0.01200   0.0700   0.07900   \n",
              "Parameter 6      1599.0  15.874922  10.460157  1.00000   7.0000  14.00000   \n",
              "Parameter 7      1599.0  46.467792  32.895324  6.00000  22.0000  38.00000   \n",
              "Parameter 8      1599.0   0.996747   0.001887  0.99007   0.9956   0.99675   \n",
              "Parameter 9      1599.0   3.311113   0.154386  2.74000   3.2100   3.31000   \n",
              "Parameter 10     1599.0   0.658149   0.169507  0.33000   0.5500   0.62000   \n",
              "Parameter 11     1599.0  10.422983   1.065668  8.40000   9.5000  10.20000   \n",
              "Signal_Strength  1599.0   5.636023   0.807569  3.00000   5.0000   6.00000   \n",
              "\n",
              "                       75%        max  \n",
              "Parameter 1       9.200000   15.90000  \n",
              "Parameter 2       0.640000    1.58000  \n",
              "Parameter 3       0.420000    1.00000  \n",
              "Parameter 4       2.600000   15.50000  \n",
              "Parameter 5       0.090000    0.61100  \n",
              "Parameter 6      21.000000   72.00000  \n",
              "Parameter 7      62.000000  289.00000  \n",
              "Parameter 8       0.997835    1.00369  \n",
              "Parameter 9       3.400000    4.01000  \n",
              "Parameter 10      0.730000    2.00000  \n",
              "Parameter 11     11.100000   14.90000  \n",
              "Signal_Strength   6.000000    8.00000  "
            ],
            "text/html": [
              "\n",
              "  <div id=\"df-f64906a9-c003-4a73-b268-3e42fa5fb944\" class=\"colab-df-container\">\n",
              "    <div>\n",
              "<style scoped>\n",
              "    .dataframe tbody tr th:only-of-type {\n",
              "        vertical-align: middle;\n",
              "    }\n",
              "\n",
              "    .dataframe tbody tr th {\n",
              "        vertical-align: top;\n",
              "    }\n",
              "\n",
              "    .dataframe thead th {\n",
              "        text-align: right;\n",
              "    }\n",
              "</style>\n",
              "<table border=\"1\" class=\"dataframe\">\n",
              "  <thead>\n",
              "    <tr style=\"text-align: right;\">\n",
              "      <th></th>\n",
              "      <th>count</th>\n",
              "      <th>mean</th>\n",
              "      <th>std</th>\n",
              "      <th>min</th>\n",
              "      <th>25%</th>\n",
              "      <th>50%</th>\n",
              "      <th>75%</th>\n",
              "      <th>max</th>\n",
              "    </tr>\n",
              "  </thead>\n",
              "  <tbody>\n",
              "    <tr>\n",
              "      <th>Parameter 1</th>\n",
              "      <td>1599.0</td>\n",
              "      <td>8.319637</td>\n",
              "      <td>1.741096</td>\n",
              "      <td>4.60000</td>\n",
              "      <td>7.1000</td>\n",
              "      <td>7.90000</td>\n",
              "      <td>9.200000</td>\n",
              "      <td>15.90000</td>\n",
              "    </tr>\n",
              "    <tr>\n",
              "      <th>Parameter 2</th>\n",
              "      <td>1599.0</td>\n",
              "      <td>0.527821</td>\n",
              "      <td>0.179060</td>\n",
              "      <td>0.12000</td>\n",
              "      <td>0.3900</td>\n",
              "      <td>0.52000</td>\n",
              "      <td>0.640000</td>\n",
              "      <td>1.58000</td>\n",
              "    </tr>\n",
              "    <tr>\n",
              "      <th>Parameter 3</th>\n",
              "      <td>1599.0</td>\n",
              "      <td>0.270976</td>\n",
              "      <td>0.194801</td>\n",
              "      <td>0.00000</td>\n",
              "      <td>0.0900</td>\n",
              "      <td>0.26000</td>\n",
              "      <td>0.420000</td>\n",
              "      <td>1.00000</td>\n",
              "    </tr>\n",
              "    <tr>\n",
              "      <th>Parameter 4</th>\n",
              "      <td>1599.0</td>\n",
              "      <td>2.538806</td>\n",
              "      <td>1.409928</td>\n",
              "      <td>0.90000</td>\n",
              "      <td>1.9000</td>\n",
              "      <td>2.20000</td>\n",
              "      <td>2.600000</td>\n",
              "      <td>15.50000</td>\n",
              "    </tr>\n",
              "    <tr>\n",
              "      <th>Parameter 5</th>\n",
              "      <td>1599.0</td>\n",
              "      <td>0.087467</td>\n",
              "      <td>0.047065</td>\n",
              "      <td>0.01200</td>\n",
              "      <td>0.0700</td>\n",
              "      <td>0.07900</td>\n",
              "      <td>0.090000</td>\n",
              "      <td>0.61100</td>\n",
              "    </tr>\n",
              "    <tr>\n",
              "      <th>Parameter 6</th>\n",
              "      <td>1599.0</td>\n",
              "      <td>15.874922</td>\n",
              "      <td>10.460157</td>\n",
              "      <td>1.00000</td>\n",
              "      <td>7.0000</td>\n",
              "      <td>14.00000</td>\n",
              "      <td>21.000000</td>\n",
              "      <td>72.00000</td>\n",
              "    </tr>\n",
              "    <tr>\n",
              "      <th>Parameter 7</th>\n",
              "      <td>1599.0</td>\n",
              "      <td>46.467792</td>\n",
              "      <td>32.895324</td>\n",
              "      <td>6.00000</td>\n",
              "      <td>22.0000</td>\n",
              "      <td>38.00000</td>\n",
              "      <td>62.000000</td>\n",
              "      <td>289.00000</td>\n",
              "    </tr>\n",
              "    <tr>\n",
              "      <th>Parameter 8</th>\n",
              "      <td>1599.0</td>\n",
              "      <td>0.996747</td>\n",
              "      <td>0.001887</td>\n",
              "      <td>0.99007</td>\n",
              "      <td>0.9956</td>\n",
              "      <td>0.99675</td>\n",
              "      <td>0.997835</td>\n",
              "      <td>1.00369</td>\n",
              "    </tr>\n",
              "    <tr>\n",
              "      <th>Parameter 9</th>\n",
              "      <td>1599.0</td>\n",
              "      <td>3.311113</td>\n",
              "      <td>0.154386</td>\n",
              "      <td>2.74000</td>\n",
              "      <td>3.2100</td>\n",
              "      <td>3.31000</td>\n",
              "      <td>3.400000</td>\n",
              "      <td>4.01000</td>\n",
              "    </tr>\n",
              "    <tr>\n",
              "      <th>Parameter 10</th>\n",
              "      <td>1599.0</td>\n",
              "      <td>0.658149</td>\n",
              "      <td>0.169507</td>\n",
              "      <td>0.33000</td>\n",
              "      <td>0.5500</td>\n",
              "      <td>0.62000</td>\n",
              "      <td>0.730000</td>\n",
              "      <td>2.00000</td>\n",
              "    </tr>\n",
              "    <tr>\n",
              "      <th>Parameter 11</th>\n",
              "      <td>1599.0</td>\n",
              "      <td>10.422983</td>\n",
              "      <td>1.065668</td>\n",
              "      <td>8.40000</td>\n",
              "      <td>9.5000</td>\n",
              "      <td>10.20000</td>\n",
              "      <td>11.100000</td>\n",
              "      <td>14.90000</td>\n",
              "    </tr>\n",
              "    <tr>\n",
              "      <th>Signal_Strength</th>\n",
              "      <td>1599.0</td>\n",
              "      <td>5.636023</td>\n",
              "      <td>0.807569</td>\n",
              "      <td>3.00000</td>\n",
              "      <td>5.0000</td>\n",
              "      <td>6.00000</td>\n",
              "      <td>6.000000</td>\n",
              "      <td>8.00000</td>\n",
              "    </tr>\n",
              "  </tbody>\n",
              "</table>\n",
              "</div>\n",
              "    <div class=\"colab-df-buttons\">\n",
              "\n",
              "  <div class=\"colab-df-container\">\n",
              "    <button class=\"colab-df-convert\" onclick=\"convertToInteractive('df-f64906a9-c003-4a73-b268-3e42fa5fb944')\"\n",
              "            title=\"Convert this dataframe to an interactive table.\"\n",
              "            style=\"display:none;\">\n",
              "\n",
              "  <svg xmlns=\"http://www.w3.org/2000/svg\" height=\"24px\" viewBox=\"0 -960 960 960\">\n",
              "    <path d=\"M120-120v-720h720v720H120Zm60-500h600v-160H180v160Zm220 220h160v-160H400v160Zm0 220h160v-160H400v160ZM180-400h160v-160H180v160Zm440 0h160v-160H620v160ZM180-180h160v-160H180v160Zm440 0h160v-160H620v160Z\"/>\n",
              "  </svg>\n",
              "    </button>\n",
              "\n",
              "  <style>\n",
              "    .colab-df-container {\n",
              "      display:flex;\n",
              "      gap: 12px;\n",
              "    }\n",
              "\n",
              "    .colab-df-convert {\n",
              "      background-color: #E8F0FE;\n",
              "      border: none;\n",
              "      border-radius: 50%;\n",
              "      cursor: pointer;\n",
              "      display: none;\n",
              "      fill: #1967D2;\n",
              "      height: 32px;\n",
              "      padding: 0 0 0 0;\n",
              "      width: 32px;\n",
              "    }\n",
              "\n",
              "    .colab-df-convert:hover {\n",
              "      background-color: #E2EBFA;\n",
              "      box-shadow: 0px 1px 2px rgba(60, 64, 67, 0.3), 0px 1px 3px 1px rgba(60, 64, 67, 0.15);\n",
              "      fill: #174EA6;\n",
              "    }\n",
              "\n",
              "    .colab-df-buttons div {\n",
              "      margin-bottom: 4px;\n",
              "    }\n",
              "\n",
              "    [theme=dark] .colab-df-convert {\n",
              "      background-color: #3B4455;\n",
              "      fill: #D2E3FC;\n",
              "    }\n",
              "\n",
              "    [theme=dark] .colab-df-convert:hover {\n",
              "      background-color: #434B5C;\n",
              "      box-shadow: 0px 1px 3px 1px rgba(0, 0, 0, 0.15);\n",
              "      filter: drop-shadow(0px 1px 2px rgba(0, 0, 0, 0.3));\n",
              "      fill: #FFFFFF;\n",
              "    }\n",
              "  </style>\n",
              "\n",
              "    <script>\n",
              "      const buttonEl =\n",
              "        document.querySelector('#df-f64906a9-c003-4a73-b268-3e42fa5fb944 button.colab-df-convert');\n",
              "      buttonEl.style.display =\n",
              "        google.colab.kernel.accessAllowed ? 'block' : 'none';\n",
              "\n",
              "      async function convertToInteractive(key) {\n",
              "        const element = document.querySelector('#df-f64906a9-c003-4a73-b268-3e42fa5fb944');\n",
              "        const dataTable =\n",
              "          await google.colab.kernel.invokeFunction('convertToInteractive',\n",
              "                                                    [key], {});\n",
              "        if (!dataTable) return;\n",
              "\n",
              "        const docLinkHtml = 'Like what you see? Visit the ' +\n",
              "          '<a target=\"_blank\" href=https://colab.research.google.com/notebooks/data_table.ipynb>data table notebook</a>'\n",
              "          + ' to learn more about interactive tables.';\n",
              "        element.innerHTML = '';\n",
              "        dataTable['output_type'] = 'display_data';\n",
              "        await google.colab.output.renderOutput(dataTable, element);\n",
              "        const docLink = document.createElement('div');\n",
              "        docLink.innerHTML = docLinkHtml;\n",
              "        element.appendChild(docLink);\n",
              "      }\n",
              "    </script>\n",
              "  </div>\n",
              "\n",
              "\n",
              "<div id=\"df-0d5799a6-7421-4e42-8af3-e718076caff3\">\n",
              "  <button class=\"colab-df-quickchart\" onclick=\"quickchart('df-0d5799a6-7421-4e42-8af3-e718076caff3')\"\n",
              "            title=\"Suggest charts\"\n",
              "            style=\"display:none;\">\n",
              "\n",
              "<svg xmlns=\"http://www.w3.org/2000/svg\" height=\"24px\"viewBox=\"0 0 24 24\"\n",
              "     width=\"24px\">\n",
              "    <g>\n",
              "        <path d=\"M19 3H5c-1.1 0-2 .9-2 2v14c0 1.1.9 2 2 2h14c1.1 0 2-.9 2-2V5c0-1.1-.9-2-2-2zM9 17H7v-7h2v7zm4 0h-2V7h2v10zm4 0h-2v-4h2v4z\"/>\n",
              "    </g>\n",
              "</svg>\n",
              "  </button>\n",
              "\n",
              "<style>\n",
              "  .colab-df-quickchart {\n",
              "      --bg-color: #E8F0FE;\n",
              "      --fill-color: #1967D2;\n",
              "      --hover-bg-color: #E2EBFA;\n",
              "      --hover-fill-color: #174EA6;\n",
              "      --disabled-fill-color: #AAA;\n",
              "      --disabled-bg-color: #DDD;\n",
              "  }\n",
              "\n",
              "  [theme=dark] .colab-df-quickchart {\n",
              "      --bg-color: #3B4455;\n",
              "      --fill-color: #D2E3FC;\n",
              "      --hover-bg-color: #434B5C;\n",
              "      --hover-fill-color: #FFFFFF;\n",
              "      --disabled-bg-color: #3B4455;\n",
              "      --disabled-fill-color: #666;\n",
              "  }\n",
              "\n",
              "  .colab-df-quickchart {\n",
              "    background-color: var(--bg-color);\n",
              "    border: none;\n",
              "    border-radius: 50%;\n",
              "    cursor: pointer;\n",
              "    display: none;\n",
              "    fill: var(--fill-color);\n",
              "    height: 32px;\n",
              "    padding: 0;\n",
              "    width: 32px;\n",
              "  }\n",
              "\n",
              "  .colab-df-quickchart:hover {\n",
              "    background-color: var(--hover-bg-color);\n",
              "    box-shadow: 0 1px 2px rgba(60, 64, 67, 0.3), 0 1px 3px 1px rgba(60, 64, 67, 0.15);\n",
              "    fill: var(--button-hover-fill-color);\n",
              "  }\n",
              "\n",
              "  .colab-df-quickchart-complete:disabled,\n",
              "  .colab-df-quickchart-complete:disabled:hover {\n",
              "    background-color: var(--disabled-bg-color);\n",
              "    fill: var(--disabled-fill-color);\n",
              "    box-shadow: none;\n",
              "  }\n",
              "\n",
              "  .colab-df-spinner {\n",
              "    border: 2px solid var(--fill-color);\n",
              "    border-color: transparent;\n",
              "    border-bottom-color: var(--fill-color);\n",
              "    animation:\n",
              "      spin 1s steps(1) infinite;\n",
              "  }\n",
              "\n",
              "  @keyframes spin {\n",
              "    0% {\n",
              "      border-color: transparent;\n",
              "      border-bottom-color: var(--fill-color);\n",
              "      border-left-color: var(--fill-color);\n",
              "    }\n",
              "    20% {\n",
              "      border-color: transparent;\n",
              "      border-left-color: var(--fill-color);\n",
              "      border-top-color: var(--fill-color);\n",
              "    }\n",
              "    30% {\n",
              "      border-color: transparent;\n",
              "      border-left-color: var(--fill-color);\n",
              "      border-top-color: var(--fill-color);\n",
              "      border-right-color: var(--fill-color);\n",
              "    }\n",
              "    40% {\n",
              "      border-color: transparent;\n",
              "      border-right-color: var(--fill-color);\n",
              "      border-top-color: var(--fill-color);\n",
              "    }\n",
              "    60% {\n",
              "      border-color: transparent;\n",
              "      border-right-color: var(--fill-color);\n",
              "    }\n",
              "    80% {\n",
              "      border-color: transparent;\n",
              "      border-right-color: var(--fill-color);\n",
              "      border-bottom-color: var(--fill-color);\n",
              "    }\n",
              "    90% {\n",
              "      border-color: transparent;\n",
              "      border-bottom-color: var(--fill-color);\n",
              "    }\n",
              "  }\n",
              "</style>\n",
              "\n",
              "  <script>\n",
              "    async function quickchart(key) {\n",
              "      const quickchartButtonEl =\n",
              "        document.querySelector('#' + key + ' button');\n",
              "      quickchartButtonEl.disabled = true;  // To prevent multiple clicks.\n",
              "      quickchartButtonEl.classList.add('colab-df-spinner');\n",
              "      try {\n",
              "        const charts = await google.colab.kernel.invokeFunction(\n",
              "            'suggestCharts', [key], {});\n",
              "      } catch (error) {\n",
              "        console.error('Error during call to suggestCharts:', error);\n",
              "      }\n",
              "      quickchartButtonEl.classList.remove('colab-df-spinner');\n",
              "      quickchartButtonEl.classList.add('colab-df-quickchart-complete');\n",
              "    }\n",
              "    (() => {\n",
              "      let quickchartButtonEl =\n",
              "        document.querySelector('#df-0d5799a6-7421-4e42-8af3-e718076caff3 button');\n",
              "      quickchartButtonEl.style.display =\n",
              "        google.colab.kernel.accessAllowed ? 'block' : 'none';\n",
              "    })();\n",
              "  </script>\n",
              "</div>\n",
              "\n",
              "    </div>\n",
              "  </div>\n"
            ],
            "application/vnd.google.colaboratory.intrinsic+json": {
              "type": "dataframe",
              "summary": "{\n  \"name\": \"df\",\n  \"rows\": 12,\n  \"fields\": [\n    {\n      \"column\": \"count\",\n      \"properties\": {\n        \"dtype\": \"number\",\n        \"std\": 0.0,\n        \"min\": 1599.0,\n        \"max\": 1599.0,\n        \"num_unique_values\": 1,\n        \"samples\": [\n          1599.0\n        ],\n        \"semantic_type\": \"\",\n        \"description\": \"\"\n      }\n    },\n    {\n      \"column\": \"mean\",\n      \"properties\": {\n        \"dtype\": \"number\",\n        \"std\": 13.094826566443462,\n        \"min\": 0.08746654158849279,\n        \"max\": 46.46779237023139,\n        \"num_unique_values\": 12,\n        \"samples\": [\n          10.422983114446529\n        ],\n        \"semantic_type\": \"\",\n        \"description\": \"\"\n      }\n    },\n    {\n      \"column\": \"std\",\n      \"properties\": {\n        \"dtype\": \"number\",\n        \"std\": 9.521897457645458,\n        \"min\": 0.0018873339538425554,\n        \"max\": 32.895324478299074,\n        \"num_unique_values\": 12,\n        \"samples\": [\n          1.0656675818563988\n        ],\n        \"semantic_type\": \"\",\n        \"description\": \"\"\n      }\n    },\n    {\n      \"column\": \"min\",\n      \"properties\": {\n        \"dtype\": \"number\",\n        \"std\": 2.7199194985495714,\n        \"min\": 0.0,\n        \"max\": 8.4,\n        \"num_unique_values\": 12,\n        \"samples\": [\n          8.4\n        ],\n        \"semantic_type\": \"\",\n        \"description\": \"\"\n      }\n    },\n    {\n      \"column\": \"25%\",\n      \"properties\": {\n        \"dtype\": \"number\",\n        \"std\": 6.292677105873769,\n        \"min\": 0.07,\n        \"max\": 22.0,\n        \"num_unique_values\": 12,\n        \"samples\": [\n          9.5\n        ],\n        \"semantic_type\": \"\",\n        \"description\": \"\"\n      }\n    },\n    {\n      \"column\": \"50%\",\n      \"properties\": {\n        \"dtype\": \"number\",\n        \"std\": 10.748222427272214,\n        \"min\": 0.079,\n        \"max\": 38.0,\n        \"num_unique_values\": 12,\n        \"samples\": [\n          10.2\n        ],\n        \"semantic_type\": \"\",\n        \"description\": \"\"\n      }\n    },\n    {\n      \"column\": \"75%\",\n      \"properties\": {\n        \"dtype\": \"number\",\n        \"std\": 17.54334705353007,\n        \"min\": 0.09,\n        \"max\": 62.0,\n        \"num_unique_values\": 12,\n        \"samples\": [\n          11.1\n        ],\n        \"semantic_type\": \"\",\n        \"description\": \"\"\n      }\n    },\n    {\n      \"column\": \"max\",\n      \"properties\": {\n        \"dtype\": \"number\",\n        \"std\": 82.25303187574917,\n        \"min\": 0.611,\n        \"max\": 289.0,\n        \"num_unique_values\": 12,\n        \"samples\": [\n          14.9\n        ],\n        \"semantic_type\": \"\",\n        \"description\": \"\"\n      }\n    }\n  ]\n}"
            }
          },
          "metadata": {},
          "execution_count": 5
        }
      ]
    },
    {
      "cell_type": "code",
      "source": [
        "df.shape"
      ],
      "metadata": {
        "colab": {
          "base_uri": "https://localhost:8080/"
        },
        "id": "uY0Rq_MlkOUi",
        "outputId": "98f4d4ed-af50-4dca-c22b-09deb1d2a164"
      },
      "execution_count": null,
      "outputs": [
        {
          "output_type": "execute_result",
          "data": {
            "text/plain": [
              "(1599, 12)"
            ]
          },
          "metadata": {},
          "execution_count": 6
        }
      ]
    },
    {
      "cell_type": "code",
      "source": [
        "missing_data = df.isnull().sum()"
      ],
      "metadata": {
        "id": "9d8UbDWMkwnN"
      },
      "execution_count": null,
      "outputs": []
    },
    {
      "cell_type": "code",
      "source": [
        "miss_data_percentage = (missing_data/len(df))*100\n",
        "print(miss_data_percentage)"
      ],
      "metadata": {
        "colab": {
          "base_uri": "https://localhost:8080/"
        },
        "id": "3gFX9zBdlfF6",
        "outputId": "da792354-166a-400e-8de3-1852705c9cc6"
      },
      "execution_count": null,
      "outputs": [
        {
          "output_type": "stream",
          "name": "stdout",
          "text": [
            "Parameter 1        0.0\n",
            "Parameter 2        0.0\n",
            "Parameter 3        0.0\n",
            "Parameter 4        0.0\n",
            "Parameter 5        0.0\n",
            "Parameter 6        0.0\n",
            "Parameter 7        0.0\n",
            "Parameter 8        0.0\n",
            "Parameter 9        0.0\n",
            "Parameter 10       0.0\n",
            "Parameter 11       0.0\n",
            "Signal_Strength    0.0\n",
            "dtype: float64\n"
          ]
        }
      ]
    },
    {
      "cell_type": "code",
      "source": [
        "for col in df.columns:\n",
        "  print(col,':', df[col].unique(), '\\n----------------------')"
      ],
      "metadata": {
        "colab": {
          "base_uri": "https://localhost:8080/"
        },
        "id": "mUKC6dkxl9sX",
        "outputId": "1d59540f-ef5a-4405-bf43-ce57a3a35225"
      },
      "execution_count": null,
      "outputs": [
        {
          "output_type": "stream",
          "name": "stdout",
          "text": [
            "Parameter 1 : [ 7.4  7.8 11.2  7.9  7.3  7.5  6.7  5.6  8.9  8.5  8.1  7.6  6.9  6.3\n",
            "  7.1  8.3  5.2  5.7  8.8  6.8  4.6  7.7  8.7  6.4  6.6  8.6 10.2  7.\n",
            "  7.2  9.3  8.   9.7  6.2  5.   4.7  8.4 10.1  9.4  9.   8.2  6.1  5.8\n",
            "  9.2 11.5  5.4  9.6 12.8 11.  11.6 12.  15.  10.8 11.1 10.  12.5 11.8\n",
            " 10.9 10.3 11.4  9.9 10.4 13.3 10.6  9.8 13.4 10.7 11.9 12.4 12.2 13.8\n",
            "  9.1 13.5 10.5 12.6 14.  13.7  9.5 12.7 12.3 15.6  5.3 11.3 13.   6.5\n",
            " 12.9 14.3 15.5 11.7 13.2 15.9 12.1  5.1  4.9  5.9  6.   5.5] \n",
            "----------------------\n",
            "Parameter 2 : [0.7   0.88  0.76  0.28  0.66  0.6   0.65  0.58  0.5   0.615 0.61  0.62\n",
            " 0.56  0.59  0.32  0.22  0.39  0.43  0.49  0.4   0.41  0.71  0.645 0.675\n",
            " 0.685 0.655 0.605 0.38  1.13  0.45  0.67  0.52  0.935 0.29  0.31  0.51\n",
            " 0.42  0.63  0.69  0.735 0.725 0.705 0.785 0.75  0.625 0.3   0.55  1.02\n",
            " 0.775 0.9   0.545 0.575 0.33  0.54  1.07  0.695 1.33  0.745 1.04  0.715\n",
            " 0.415 0.34  0.68  0.95  0.53  0.64  0.885 0.805 0.73  0.37  0.835 1.09\n",
            " 0.57  0.44  0.635 0.82  0.48  1.    0.21  0.35  0.975 0.26  0.87  0.18\n",
            " 0.27  0.2   0.36  0.83  0.46  0.47  0.77  0.815 0.795 0.665 0.765 0.24\n",
            " 0.85  0.84  0.96  0.78  0.23  0.315 0.365 0.25  0.825 0.72  0.595 0.585\n",
            " 0.915 0.755 0.845 1.24  0.8   0.98  1.185 0.92  1.035 1.025 0.565 0.74\n",
            " 1.115 0.865 0.875 0.965 0.91  0.89  1.01  0.305 0.395 0.12  0.86  0.295\n",
            " 1.005 0.19  0.955 0.16  1.58  0.79  1.18  0.475 0.81  0.895 0.855] \n",
            "----------------------\n",
            "Parameter 3 : [0.   0.04 0.56 0.06 0.02 0.36 0.08 0.29 0.18 0.19 0.28 0.51 0.48 0.31\n",
            " 0.21 0.11 0.14 0.16 0.24 0.07 0.12 0.25 0.09 0.3  0.2  0.22 0.15 0.43\n",
            " 0.52 0.23 0.37 0.26 0.57 0.4  0.49 0.05 0.54 0.64 0.7  0.47 0.44 0.17\n",
            " 0.68 0.53 0.1  0.01 0.55 1.   0.03 0.42 0.33 0.32 0.35 0.6  0.74 0.58\n",
            " 0.5  0.76 0.46 0.45 0.38 0.39 0.66 0.62 0.67 0.79 0.63 0.61 0.71 0.65\n",
            " 0.59 0.34 0.69 0.73 0.72 0.41 0.27 0.75 0.13 0.78] \n",
            "----------------------\n",
            "Parameter 4 : [ 1.9   2.6   2.3   1.8   1.6   1.2   2.    6.1   3.8   3.9   1.7   4.4\n",
            "  2.4   1.4   2.5  10.7   5.5   2.1   1.5   5.9   2.8   2.2   3.    3.4\n",
            "  5.1   4.65  1.3   7.3   7.2   2.9   2.7   5.6   3.1   3.2   3.3   3.6\n",
            "  4.    7.    6.4   3.5  11.    3.65  4.5   4.8   2.95  5.8   6.2   4.2\n",
            "  7.9   3.7   6.7   6.6   2.15  5.2   2.55 15.5   4.1   8.3   6.55  4.6\n",
            "  4.3   5.15  6.3   6.    8.6   7.5   2.25  4.25  2.85  3.45  2.35  2.65\n",
            "  9.    8.8   5.    1.65  2.05  0.9   8.9   8.1   4.7   1.75  7.8  12.9\n",
            " 13.4   5.4  15.4   3.75 13.8   5.7  13.9 ] \n",
            "----------------------\n",
            "Parameter 5 : [0.076 0.098 0.092 0.075 0.069 0.065 0.073 0.071 0.097 0.089 0.114 0.176\n",
            " 0.17  0.368 0.086 0.341 0.077 0.082 0.106 0.084 0.085 0.08  0.105 0.083\n",
            " 0.103 0.066 0.172 0.074 0.088 0.332 0.05  0.054 0.113 0.068 0.081 0.11\n",
            " 0.07  0.111 0.079 0.115 0.094 0.093 0.104 0.464 0.401 0.062 0.107 0.045\n",
            " 0.058 0.102 0.467 0.091 0.122 0.09  0.119 0.178 0.146 0.072 0.118 0.049\n",
            " 0.06  0.117 0.087 0.236 0.61  0.095 0.1   0.36  0.067 0.27  0.099 0.046\n",
            " 0.061 0.056 0.039 0.059 0.101 0.057 0.337 0.078 0.263 0.063 0.611 0.064\n",
            " 0.096 0.358 0.343 0.186 0.112 0.213 0.214 0.121 0.128 0.052 0.12  0.116\n",
            " 0.109 0.159 0.124 0.174 0.047 0.127 0.413 0.152 0.053 0.055 0.051 0.125\n",
            " 0.2   0.171 0.226 0.25  0.108 0.148 0.143 0.222 0.157 0.422 0.034 0.387\n",
            " 0.415 0.243 0.241 0.19  0.132 0.126 0.038 0.044 0.041 0.165 0.048 0.145\n",
            " 0.147 0.012 0.194 0.161 0.123 0.414 0.216 0.043 0.042 0.369 0.166 0.136\n",
            " 0.403 0.137 0.168 0.153 0.267 0.169 0.205 0.235 0.23 ] \n",
            "----------------------\n",
            "Parameter 6 : [11.  25.  15.  17.  13.   9.  16.  52.  51.  35.   6.  29.  23.  10.\n",
            " 21.   4.  14.   8.  22.  40.   5.   3.   7.  12.  30.  33.  50.  19.\n",
            " 20.  27.  18.  28.  34.  42.  41.  37.  32.  36.  24.  26.  39.  40.5\n",
            " 68.  31.  38.  43.  47.   1.  54.  46.  45.   2.   5.5 53.  37.5 57.\n",
            " 48.  72.  55.  66. ] \n",
            "----------------------\n",
            "Parameter 7 : [ 34.   67.   54.   60.   40.   59.   21.   18.  102.   65.   29.  145.\n",
            " 148.  103.   56.   71.   37.   23.   11.   35.   16.   82.  113.   83.\n",
            "  50.   15.   30.   19.   87.   46.   14.  114.   12.   96.  119.   73.\n",
            "  45.   10.  110.   52.  112.   39.   27.   94.   43.   42.   80.   51.\n",
            "  61.  136.   31.  125.   24.  140.  133.   85.  106.   22.   36.   69.\n",
            "  64.  153.   47.  108.  111.   62.   28.   89.   13.   90.  134.   99.\n",
            "  26.   63.  105.   20.  141.   88.  129.  128.   86.  121.  101.   44.\n",
            "   8.   49.   38.  143.  144.  127.  126.  120.   55.   93.   95.   41.\n",
            "  58.   72.   81.  109.   33.   53.   98.   48.   70.   25.  135.   92.\n",
            "  74.   32.   77.  165.   75.  124.   78.  122.   66.   68.   17.   91.\n",
            "  76.  151.  142.  116.  149.   57.  104.   84.  147.  155.  152.    9.\n",
            " 139.  130.    7.  100.  115.    6.   79.  278.  289.  160.   77.5 131. ] \n",
            "----------------------\n",
            "Parameter 8 : [0.9978  0.9968  0.997   0.998   0.9964  0.9946  0.9959  0.9943  0.9974\n",
            " 0.9986  0.9969  0.9982  0.9966  0.9955  0.9962  0.9972  0.9958  0.9993\n",
            " 0.9957  0.9975  0.994   0.9976  0.9934  0.9954  0.9971  0.9956  0.9983\n",
            " 0.9967  0.9961  0.9984  0.9938  0.9932  0.9965  0.9963  0.996   0.9973\n",
            " 0.9988  0.9937  0.9952  0.9916  0.9944  0.9996  0.995   0.9981  0.9953\n",
            " 0.9924  0.9948  0.99695 0.99545 0.99615 0.9994  0.99625 0.99585 0.99685\n",
            " 0.99655 0.99525 0.99815 0.99745 0.9927  0.99675 0.99925 0.99565 1.00005\n",
            " 0.9985  0.99965 0.99575 0.9999  1.00025 0.9987  0.99935 0.99735 0.99915\n",
            " 0.9991  1.00015 0.9997  1.001   0.9979  1.0014  1.0001  0.99855 0.99845\n",
            " 0.9998  0.99645 0.99865 0.9989  0.99975 0.999   1.0015  1.0002  0.9992\n",
            " 1.0008  1.      1.0006  1.0004  1.0018  0.9912  1.0022  1.0003  0.9949\n",
            " 0.9951  1.0032  0.9947  0.9995  0.9977  1.0026  1.00315 1.0021  0.9917\n",
            " 0.9922  0.9921  0.99788 1.00024 0.99768 0.99782 0.99761 0.99803 0.99785\n",
            " 0.99656 0.99488 0.99823 0.99779 0.99738 0.99701 0.99888 0.99938 0.99744\n",
            " 0.99668 0.99727 0.99586 0.99612 0.99676 0.99732 0.99814 0.99746 0.99708\n",
            " 0.99818 0.99639 0.99531 0.99786 0.99526 0.99641 0.99264 0.99682 0.99356\n",
            " 0.99386 0.99702 0.99693 0.99562 1.00012 0.99462 0.99939 0.99632 0.99976\n",
            " 0.99606 0.99154 0.99624 0.99417 0.99376 0.99832 0.99836 0.99694 0.99064\n",
            " 0.99672 0.99647 0.99736 0.99629 0.99689 0.99801 0.99652 0.99538 0.99594\n",
            " 0.99686 0.99438 0.99357 0.99628 0.99748 0.99578 0.99371 0.99522 0.99576\n",
            " 0.99552 0.99664 0.99614 0.99517 0.99787 0.99533 0.99536 0.99824 0.99577\n",
            " 0.99491 1.00289 0.99743 0.99774 0.99444 0.99892 0.99528 0.99331 0.99901\n",
            " 0.99674 0.99512 0.99395 0.99504 0.99516 0.99604 0.99468 0.99543 0.99791\n",
            " 0.99425 0.99509 0.99484 0.99834 0.99864 0.99498 0.99566 0.99408 0.99458\n",
            " 0.99648 0.99568 0.99613 0.99519 0.99518 0.99592 0.99654 0.99546 0.99554\n",
            " 0.99733 0.99669 0.99724 0.99643 0.99605 0.99658 0.99416 0.99712 0.99418\n",
            " 0.99596 0.99556 0.99918 0.99697 0.99378 0.99162 0.99495 0.9928  0.99603\n",
            " 0.99549 0.99722 0.99354 0.99635 0.99454 0.99598 0.99486 0.99007 0.99636\n",
            " 0.99642 0.99584 0.99506 0.99822 0.99364 0.99514 0.99854 0.99739 0.99683\n",
            " 0.99692 0.99756 0.99547 0.99859 0.99294 0.99634 0.99704 0.99258 0.99426\n",
            " 0.99747 0.99784 0.99358 0.99572 0.99769 0.99534 0.99817 0.99316 0.99471\n",
            " 0.99617 0.99529 0.99451 0.99479 0.99772 0.99666 0.99392 0.99388 0.99402\n",
            " 0.9936  0.99374 0.99523 0.99593 0.99396 0.99698 0.9902  0.99252 0.99256\n",
            " 0.99235 0.99352 0.99557 0.99394 0.9915  0.99379 0.99798 0.99341 0.9933\n",
            " 0.99684 0.99524 0.99764 0.99588 0.99473 0.99616 0.99622 0.99544 0.99728\n",
            " 0.99551 0.99434 0.99709 0.99384 0.99502 0.99667 0.99649 0.99716 0.99541\n",
            " 0.99318 0.99346 0.99599 0.99478 0.99754 0.99439 0.99633 0.99419 0.99878\n",
            " 0.99752 0.99428 0.99659 0.99677 0.99734 0.99678 0.99638 0.99922 0.99157\n",
            " 0.99718 0.99621 0.99242 0.99494 0.99729 0.99414 0.99721 0.99627 0.99569\n",
            " 0.99499 0.99437 0.99726 0.99456 0.99564 0.9908  0.99084 0.9935  0.99385\n",
            " 0.99688 0.99619 0.99476 0.99328 0.99286 0.99914 0.99521 0.99362 0.99558\n",
            " 0.99323 0.99191 0.99501 0.9929  0.99532 0.99796 0.99581 0.99608 0.99387\n",
            " 0.99448 0.99589 0.99852 0.99472 0.99587 0.99332 0.99464 0.99699 0.99725\n",
            " 0.99623 0.99609 0.99292 0.9942  1.00369 0.99713 0.99322 0.99706 0.99974\n",
            " 0.99467 0.99236 0.99705 0.99334 0.99336 1.00242 0.99182 0.99808 0.99828\n",
            " 0.99719 0.99542 0.99496 0.99344 0.99348 0.99459 0.99492 0.99508 0.99582\n",
            " 0.99555 0.9941  0.99661 0.99842 0.99489 0.99665 0.99553 0.99714 0.99631\n",
            " 0.99573 0.99717 0.99397 0.99646 0.99758 0.99306 0.99783 0.99765 0.99474\n",
            " 0.99483 0.99314 0.99574 0.99651] \n",
            "----------------------\n",
            "Parameter 9 : [3.51 3.2  3.26 3.16 3.3  3.39 3.36 3.35 3.28 3.58 3.17 3.11 3.38 3.04\n",
            " 3.52 3.43 3.34 3.47 3.46 3.45 3.4  3.42 3.23 3.5  3.33 3.21 3.48 3.9\n",
            " 3.25 3.32 3.15 3.41 3.44 3.31 3.54 3.13 2.93 3.14 3.75 3.85 3.29 3.08\n",
            " 3.37 3.19 3.07 3.49 3.53 3.24 3.63 3.22 3.68 2.74 3.59 3.   3.12 3.57\n",
            " 3.61 3.06 3.6  3.69 3.1  3.05 3.67 3.27 3.18 3.02 3.55 2.99 3.01 3.56\n",
            " 3.03 3.62 2.88 2.95 2.98 3.09 2.86 3.74 2.92 3.72 2.87 2.89 2.94 3.66\n",
            " 3.71 3.78 3.7  4.01 2.9 ] \n",
            "----------------------\n",
            "Parameter 10 : [0.56 0.68 0.65 0.58 0.46 0.47 0.57 0.8  0.54 0.52 1.56 0.88 0.93 0.75\n",
            " 1.28 0.5  1.08 0.53 0.91 0.63 0.59 0.55 0.66 0.6  0.73 0.48 0.83 0.51\n",
            " 0.9  1.2  0.74 0.64 0.77 0.71 0.62 0.39 0.79 0.95 0.82 1.12 1.14 0.78\n",
            " 1.95 1.22 1.98 0.61 1.31 0.69 0.67 0.7  0.49 0.92 2.   0.72 1.59 0.33\n",
            " 1.02 0.97 0.85 0.43 1.03 0.86 0.76 1.61 1.09 0.84 0.96 0.45 1.26 0.87\n",
            " 0.81 1.   1.36 1.18 0.89 0.98 1.13 1.04 1.11 0.99 1.07 0.44 1.06 1.05\n",
            " 0.42 1.17 1.62 0.94 1.34 1.16 1.1  0.4  1.15 0.37 1.33 1.01] \n",
            "----------------------\n",
            "Parameter 11 : [ 9.4         9.8        10.          9.5        10.5         9.2\n",
            "  9.9         9.1         9.3         9.          9.7        10.1\n",
            " 10.6         9.6        10.8        10.3        13.1        10.2\n",
            " 10.9        10.7        12.9        10.4        13.         14.\n",
            " 11.5        11.4        12.4        11.         12.2        12.8\n",
            " 12.6        12.5        11.7        11.3        12.3        12.\n",
            " 11.9        11.8         8.7        13.3        11.2        11.6\n",
            " 11.1        13.4        12.1         8.4        12.7        14.9\n",
            " 13.2        13.6        13.5        10.03333333  9.55        8.5\n",
            " 11.06666667  9.56666667 10.55        8.8        13.56666667 11.95\n",
            "  9.95        9.23333333  9.25        9.05       10.75      ] \n",
            "----------------------\n",
            "Signal_Strength : [5 6 7 4 8 3] \n",
            "----------------------\n"
          ]
        }
      ]
    },
    {
      "cell_type": "code",
      "source": [
        "duplicates = df.duplicated().sum()\n",
        "print('Duplicate Records:', duplicates)"
      ],
      "metadata": {
        "colab": {
          "base_uri": "https://localhost:8080/"
        },
        "id": "F3SY9S8BojMq",
        "outputId": "7bb0edc6-b3c6-4c26-a8b2-a227536ec1e2"
      },
      "execution_count": null,
      "outputs": [
        {
          "output_type": "stream",
          "name": "stdout",
          "text": [
            "Duplicate Records: 240\n"
          ]
        }
      ]
    },
    {
      "cell_type": "code",
      "source": [
        "df.isnull().values.any()"
      ],
      "metadata": {
        "colab": {
          "base_uri": "https://localhost:8080/"
        },
        "id": "gs1tEPUtqFC_",
        "outputId": "18a89a60-e0b8-443c-ef69-401cefb0c756"
      },
      "execution_count": null,
      "outputs": [
        {
          "output_type": "execute_result",
          "data": {
            "text/plain": [
              "False"
            ]
          },
          "metadata": {},
          "execution_count": 11
        }
      ]
    },
    {
      "cell_type": "code",
      "source": [
        "#getting duplicated rows to identify where are these duplicates located\n",
        "df[df.duplicated()]"
      ],
      "metadata": {
        "colab": {
          "base_uri": "https://localhost:8080/",
          "height": 423
        },
        "id": "KDBMujbsqO6F",
        "outputId": "398433d8-4f1d-42a3-f66c-2201dc3ea741"
      },
      "execution_count": null,
      "outputs": [
        {
          "output_type": "execute_result",
          "data": {
            "text/plain": [
              "      Parameter 1  Parameter 2  Parameter 3  Parameter 4  Parameter 5  \\\n",
              "4             7.4        0.700         0.00         1.90        0.076   \n",
              "11            7.5        0.500         0.36         6.10        0.071   \n",
              "27            7.9        0.430         0.21         1.60        0.106   \n",
              "40            7.3        0.450         0.36         5.90        0.074   \n",
              "65            7.2        0.725         0.05         4.65        0.086   \n",
              "...           ...          ...          ...          ...          ...   \n",
              "1563          7.2        0.695         0.13         2.00        0.076   \n",
              "1564          7.2        0.695         0.13         2.00        0.076   \n",
              "1567          7.2        0.695         0.13         2.00        0.076   \n",
              "1581          6.2        0.560         0.09         1.70        0.053   \n",
              "1596          6.3        0.510         0.13         2.30        0.076   \n",
              "\n",
              "      Parameter 6  Parameter 7  Parameter 8  Parameter 9  Parameter 10  \\\n",
              "4            11.0         34.0      0.99780         3.51          0.56   \n",
              "11           17.0        102.0      0.99780         3.35          0.80   \n",
              "27           10.0         37.0      0.99660         3.17          0.91   \n",
              "40           12.0         87.0      0.99780         3.33          0.83   \n",
              "65            4.0         11.0      0.99620         3.41          0.39   \n",
              "...           ...          ...          ...          ...           ...   \n",
              "1563         12.0         20.0      0.99546         3.29          0.54   \n",
              "1564         12.0         20.0      0.99546         3.29          0.54   \n",
              "1567         12.0         20.0      0.99546         3.29          0.54   \n",
              "1581         24.0         32.0      0.99402         3.54          0.60   \n",
              "1596         29.0         40.0      0.99574         3.42          0.75   \n",
              "\n",
              "      Parameter 11  Signal_Strength  \n",
              "4              9.4                5  \n",
              "11            10.5                5  \n",
              "27             9.5                5  \n",
              "40            10.5                5  \n",
              "65            10.9                5  \n",
              "...            ...              ...  \n",
              "1563          10.1                5  \n",
              "1564          10.1                5  \n",
              "1567          10.1                5  \n",
              "1581          11.3                5  \n",
              "1596          11.0                6  \n",
              "\n",
              "[240 rows x 12 columns]"
            ],
            "text/html": [
              "\n",
              "  <div id=\"df-75dceefd-ba43-43cc-9467-87eed431f1b0\" class=\"colab-df-container\">\n",
              "    <div>\n",
              "<style scoped>\n",
              "    .dataframe tbody tr th:only-of-type {\n",
              "        vertical-align: middle;\n",
              "    }\n",
              "\n",
              "    .dataframe tbody tr th {\n",
              "        vertical-align: top;\n",
              "    }\n",
              "\n",
              "    .dataframe thead th {\n",
              "        text-align: right;\n",
              "    }\n",
              "</style>\n",
              "<table border=\"1\" class=\"dataframe\">\n",
              "  <thead>\n",
              "    <tr style=\"text-align: right;\">\n",
              "      <th></th>\n",
              "      <th>Parameter 1</th>\n",
              "      <th>Parameter 2</th>\n",
              "      <th>Parameter 3</th>\n",
              "      <th>Parameter 4</th>\n",
              "      <th>Parameter 5</th>\n",
              "      <th>Parameter 6</th>\n",
              "      <th>Parameter 7</th>\n",
              "      <th>Parameter 8</th>\n",
              "      <th>Parameter 9</th>\n",
              "      <th>Parameter 10</th>\n",
              "      <th>Parameter 11</th>\n",
              "      <th>Signal_Strength</th>\n",
              "    </tr>\n",
              "  </thead>\n",
              "  <tbody>\n",
              "    <tr>\n",
              "      <th>4</th>\n",
              "      <td>7.4</td>\n",
              "      <td>0.700</td>\n",
              "      <td>0.00</td>\n",
              "      <td>1.90</td>\n",
              "      <td>0.076</td>\n",
              "      <td>11.0</td>\n",
              "      <td>34.0</td>\n",
              "      <td>0.99780</td>\n",
              "      <td>3.51</td>\n",
              "      <td>0.56</td>\n",
              "      <td>9.4</td>\n",
              "      <td>5</td>\n",
              "    </tr>\n",
              "    <tr>\n",
              "      <th>11</th>\n",
              "      <td>7.5</td>\n",
              "      <td>0.500</td>\n",
              "      <td>0.36</td>\n",
              "      <td>6.10</td>\n",
              "      <td>0.071</td>\n",
              "      <td>17.0</td>\n",
              "      <td>102.0</td>\n",
              "      <td>0.99780</td>\n",
              "      <td>3.35</td>\n",
              "      <td>0.80</td>\n",
              "      <td>10.5</td>\n",
              "      <td>5</td>\n",
              "    </tr>\n",
              "    <tr>\n",
              "      <th>27</th>\n",
              "      <td>7.9</td>\n",
              "      <td>0.430</td>\n",
              "      <td>0.21</td>\n",
              "      <td>1.60</td>\n",
              "      <td>0.106</td>\n",
              "      <td>10.0</td>\n",
              "      <td>37.0</td>\n",
              "      <td>0.99660</td>\n",
              "      <td>3.17</td>\n",
              "      <td>0.91</td>\n",
              "      <td>9.5</td>\n",
              "      <td>5</td>\n",
              "    </tr>\n",
              "    <tr>\n",
              "      <th>40</th>\n",
              "      <td>7.3</td>\n",
              "      <td>0.450</td>\n",
              "      <td>0.36</td>\n",
              "      <td>5.90</td>\n",
              "      <td>0.074</td>\n",
              "      <td>12.0</td>\n",
              "      <td>87.0</td>\n",
              "      <td>0.99780</td>\n",
              "      <td>3.33</td>\n",
              "      <td>0.83</td>\n",
              "      <td>10.5</td>\n",
              "      <td>5</td>\n",
              "    </tr>\n",
              "    <tr>\n",
              "      <th>65</th>\n",
              "      <td>7.2</td>\n",
              "      <td>0.725</td>\n",
              "      <td>0.05</td>\n",
              "      <td>4.65</td>\n",
              "      <td>0.086</td>\n",
              "      <td>4.0</td>\n",
              "      <td>11.0</td>\n",
              "      <td>0.99620</td>\n",
              "      <td>3.41</td>\n",
              "      <td>0.39</td>\n",
              "      <td>10.9</td>\n",
              "      <td>5</td>\n",
              "    </tr>\n",
              "    <tr>\n",
              "      <th>...</th>\n",
              "      <td>...</td>\n",
              "      <td>...</td>\n",
              "      <td>...</td>\n",
              "      <td>...</td>\n",
              "      <td>...</td>\n",
              "      <td>...</td>\n",
              "      <td>...</td>\n",
              "      <td>...</td>\n",
              "      <td>...</td>\n",
              "      <td>...</td>\n",
              "      <td>...</td>\n",
              "      <td>...</td>\n",
              "    </tr>\n",
              "    <tr>\n",
              "      <th>1563</th>\n",
              "      <td>7.2</td>\n",
              "      <td>0.695</td>\n",
              "      <td>0.13</td>\n",
              "      <td>2.00</td>\n",
              "      <td>0.076</td>\n",
              "      <td>12.0</td>\n",
              "      <td>20.0</td>\n",
              "      <td>0.99546</td>\n",
              "      <td>3.29</td>\n",
              "      <td>0.54</td>\n",
              "      <td>10.1</td>\n",
              "      <td>5</td>\n",
              "    </tr>\n",
              "    <tr>\n",
              "      <th>1564</th>\n",
              "      <td>7.2</td>\n",
              "      <td>0.695</td>\n",
              "      <td>0.13</td>\n",
              "      <td>2.00</td>\n",
              "      <td>0.076</td>\n",
              "      <td>12.0</td>\n",
              "      <td>20.0</td>\n",
              "      <td>0.99546</td>\n",
              "      <td>3.29</td>\n",
              "      <td>0.54</td>\n",
              "      <td>10.1</td>\n",
              "      <td>5</td>\n",
              "    </tr>\n",
              "    <tr>\n",
              "      <th>1567</th>\n",
              "      <td>7.2</td>\n",
              "      <td>0.695</td>\n",
              "      <td>0.13</td>\n",
              "      <td>2.00</td>\n",
              "      <td>0.076</td>\n",
              "      <td>12.0</td>\n",
              "      <td>20.0</td>\n",
              "      <td>0.99546</td>\n",
              "      <td>3.29</td>\n",
              "      <td>0.54</td>\n",
              "      <td>10.1</td>\n",
              "      <td>5</td>\n",
              "    </tr>\n",
              "    <tr>\n",
              "      <th>1581</th>\n",
              "      <td>6.2</td>\n",
              "      <td>0.560</td>\n",
              "      <td>0.09</td>\n",
              "      <td>1.70</td>\n",
              "      <td>0.053</td>\n",
              "      <td>24.0</td>\n",
              "      <td>32.0</td>\n",
              "      <td>0.99402</td>\n",
              "      <td>3.54</td>\n",
              "      <td>0.60</td>\n",
              "      <td>11.3</td>\n",
              "      <td>5</td>\n",
              "    </tr>\n",
              "    <tr>\n",
              "      <th>1596</th>\n",
              "      <td>6.3</td>\n",
              "      <td>0.510</td>\n",
              "      <td>0.13</td>\n",
              "      <td>2.30</td>\n",
              "      <td>0.076</td>\n",
              "      <td>29.0</td>\n",
              "      <td>40.0</td>\n",
              "      <td>0.99574</td>\n",
              "      <td>3.42</td>\n",
              "      <td>0.75</td>\n",
              "      <td>11.0</td>\n",
              "      <td>6</td>\n",
              "    </tr>\n",
              "  </tbody>\n",
              "</table>\n",
              "<p>240 rows × 12 columns</p>\n",
              "</div>\n",
              "    <div class=\"colab-df-buttons\">\n",
              "\n",
              "  <div class=\"colab-df-container\">\n",
              "    <button class=\"colab-df-convert\" onclick=\"convertToInteractive('df-75dceefd-ba43-43cc-9467-87eed431f1b0')\"\n",
              "            title=\"Convert this dataframe to an interactive table.\"\n",
              "            style=\"display:none;\">\n",
              "\n",
              "  <svg xmlns=\"http://www.w3.org/2000/svg\" height=\"24px\" viewBox=\"0 -960 960 960\">\n",
              "    <path d=\"M120-120v-720h720v720H120Zm60-500h600v-160H180v160Zm220 220h160v-160H400v160Zm0 220h160v-160H400v160ZM180-400h160v-160H180v160Zm440 0h160v-160H620v160ZM180-180h160v-160H180v160Zm440 0h160v-160H620v160Z\"/>\n",
              "  </svg>\n",
              "    </button>\n",
              "\n",
              "  <style>\n",
              "    .colab-df-container {\n",
              "      display:flex;\n",
              "      gap: 12px;\n",
              "    }\n",
              "\n",
              "    .colab-df-convert {\n",
              "      background-color: #E8F0FE;\n",
              "      border: none;\n",
              "      border-radius: 50%;\n",
              "      cursor: pointer;\n",
              "      display: none;\n",
              "      fill: #1967D2;\n",
              "      height: 32px;\n",
              "      padding: 0 0 0 0;\n",
              "      width: 32px;\n",
              "    }\n",
              "\n",
              "    .colab-df-convert:hover {\n",
              "      background-color: #E2EBFA;\n",
              "      box-shadow: 0px 1px 2px rgba(60, 64, 67, 0.3), 0px 1px 3px 1px rgba(60, 64, 67, 0.15);\n",
              "      fill: #174EA6;\n",
              "    }\n",
              "\n",
              "    .colab-df-buttons div {\n",
              "      margin-bottom: 4px;\n",
              "    }\n",
              "\n",
              "    [theme=dark] .colab-df-convert {\n",
              "      background-color: #3B4455;\n",
              "      fill: #D2E3FC;\n",
              "    }\n",
              "\n",
              "    [theme=dark] .colab-df-convert:hover {\n",
              "      background-color: #434B5C;\n",
              "      box-shadow: 0px 1px 3px 1px rgba(0, 0, 0, 0.15);\n",
              "      filter: drop-shadow(0px 1px 2px rgba(0, 0, 0, 0.3));\n",
              "      fill: #FFFFFF;\n",
              "    }\n",
              "  </style>\n",
              "\n",
              "    <script>\n",
              "      const buttonEl =\n",
              "        document.querySelector('#df-75dceefd-ba43-43cc-9467-87eed431f1b0 button.colab-df-convert');\n",
              "      buttonEl.style.display =\n",
              "        google.colab.kernel.accessAllowed ? 'block' : 'none';\n",
              "\n",
              "      async function convertToInteractive(key) {\n",
              "        const element = document.querySelector('#df-75dceefd-ba43-43cc-9467-87eed431f1b0');\n",
              "        const dataTable =\n",
              "          await google.colab.kernel.invokeFunction('convertToInteractive',\n",
              "                                                    [key], {});\n",
              "        if (!dataTable) return;\n",
              "\n",
              "        const docLinkHtml = 'Like what you see? Visit the ' +\n",
              "          '<a target=\"_blank\" href=https://colab.research.google.com/notebooks/data_table.ipynb>data table notebook</a>'\n",
              "          + ' to learn more about interactive tables.';\n",
              "        element.innerHTML = '';\n",
              "        dataTable['output_type'] = 'display_data';\n",
              "        await google.colab.output.renderOutput(dataTable, element);\n",
              "        const docLink = document.createElement('div');\n",
              "        docLink.innerHTML = docLinkHtml;\n",
              "        element.appendChild(docLink);\n",
              "      }\n",
              "    </script>\n",
              "  </div>\n",
              "\n",
              "\n",
              "<div id=\"df-74396420-60c4-4875-b512-57f4c0c0390c\">\n",
              "  <button class=\"colab-df-quickchart\" onclick=\"quickchart('df-74396420-60c4-4875-b512-57f4c0c0390c')\"\n",
              "            title=\"Suggest charts\"\n",
              "            style=\"display:none;\">\n",
              "\n",
              "<svg xmlns=\"http://www.w3.org/2000/svg\" height=\"24px\"viewBox=\"0 0 24 24\"\n",
              "     width=\"24px\">\n",
              "    <g>\n",
              "        <path d=\"M19 3H5c-1.1 0-2 .9-2 2v14c0 1.1.9 2 2 2h14c1.1 0 2-.9 2-2V5c0-1.1-.9-2-2-2zM9 17H7v-7h2v7zm4 0h-2V7h2v10zm4 0h-2v-4h2v4z\"/>\n",
              "    </g>\n",
              "</svg>\n",
              "  </button>\n",
              "\n",
              "<style>\n",
              "  .colab-df-quickchart {\n",
              "      --bg-color: #E8F0FE;\n",
              "      --fill-color: #1967D2;\n",
              "      --hover-bg-color: #E2EBFA;\n",
              "      --hover-fill-color: #174EA6;\n",
              "      --disabled-fill-color: #AAA;\n",
              "      --disabled-bg-color: #DDD;\n",
              "  }\n",
              "\n",
              "  [theme=dark] .colab-df-quickchart {\n",
              "      --bg-color: #3B4455;\n",
              "      --fill-color: #D2E3FC;\n",
              "      --hover-bg-color: #434B5C;\n",
              "      --hover-fill-color: #FFFFFF;\n",
              "      --disabled-bg-color: #3B4455;\n",
              "      --disabled-fill-color: #666;\n",
              "  }\n",
              "\n",
              "  .colab-df-quickchart {\n",
              "    background-color: var(--bg-color);\n",
              "    border: none;\n",
              "    border-radius: 50%;\n",
              "    cursor: pointer;\n",
              "    display: none;\n",
              "    fill: var(--fill-color);\n",
              "    height: 32px;\n",
              "    padding: 0;\n",
              "    width: 32px;\n",
              "  }\n",
              "\n",
              "  .colab-df-quickchart:hover {\n",
              "    background-color: var(--hover-bg-color);\n",
              "    box-shadow: 0 1px 2px rgba(60, 64, 67, 0.3), 0 1px 3px 1px rgba(60, 64, 67, 0.15);\n",
              "    fill: var(--button-hover-fill-color);\n",
              "  }\n",
              "\n",
              "  .colab-df-quickchart-complete:disabled,\n",
              "  .colab-df-quickchart-complete:disabled:hover {\n",
              "    background-color: var(--disabled-bg-color);\n",
              "    fill: var(--disabled-fill-color);\n",
              "    box-shadow: none;\n",
              "  }\n",
              "\n",
              "  .colab-df-spinner {\n",
              "    border: 2px solid var(--fill-color);\n",
              "    border-color: transparent;\n",
              "    border-bottom-color: var(--fill-color);\n",
              "    animation:\n",
              "      spin 1s steps(1) infinite;\n",
              "  }\n",
              "\n",
              "  @keyframes spin {\n",
              "    0% {\n",
              "      border-color: transparent;\n",
              "      border-bottom-color: var(--fill-color);\n",
              "      border-left-color: var(--fill-color);\n",
              "    }\n",
              "    20% {\n",
              "      border-color: transparent;\n",
              "      border-left-color: var(--fill-color);\n",
              "      border-top-color: var(--fill-color);\n",
              "    }\n",
              "    30% {\n",
              "      border-color: transparent;\n",
              "      border-left-color: var(--fill-color);\n",
              "      border-top-color: var(--fill-color);\n",
              "      border-right-color: var(--fill-color);\n",
              "    }\n",
              "    40% {\n",
              "      border-color: transparent;\n",
              "      border-right-color: var(--fill-color);\n",
              "      border-top-color: var(--fill-color);\n",
              "    }\n",
              "    60% {\n",
              "      border-color: transparent;\n",
              "      border-right-color: var(--fill-color);\n",
              "    }\n",
              "    80% {\n",
              "      border-color: transparent;\n",
              "      border-right-color: var(--fill-color);\n",
              "      border-bottom-color: var(--fill-color);\n",
              "    }\n",
              "    90% {\n",
              "      border-color: transparent;\n",
              "      border-bottom-color: var(--fill-color);\n",
              "    }\n",
              "  }\n",
              "</style>\n",
              "\n",
              "  <script>\n",
              "    async function quickchart(key) {\n",
              "      const quickchartButtonEl =\n",
              "        document.querySelector('#' + key + ' button');\n",
              "      quickchartButtonEl.disabled = true;  // To prevent multiple clicks.\n",
              "      quickchartButtonEl.classList.add('colab-df-spinner');\n",
              "      try {\n",
              "        const charts = await google.colab.kernel.invokeFunction(\n",
              "            'suggestCharts', [key], {});\n",
              "      } catch (error) {\n",
              "        console.error('Error during call to suggestCharts:', error);\n",
              "      }\n",
              "      quickchartButtonEl.classList.remove('colab-df-spinner');\n",
              "      quickchartButtonEl.classList.add('colab-df-quickchart-complete');\n",
              "    }\n",
              "    (() => {\n",
              "      let quickchartButtonEl =\n",
              "        document.querySelector('#df-74396420-60c4-4875-b512-57f4c0c0390c button');\n",
              "      quickchartButtonEl.style.display =\n",
              "        google.colab.kernel.accessAllowed ? 'block' : 'none';\n",
              "    })();\n",
              "  </script>\n",
              "</div>\n",
              "\n",
              "    </div>\n",
              "  </div>\n"
            ],
            "application/vnd.google.colaboratory.intrinsic+json": {
              "type": "dataframe",
              "summary": "{\n  \"name\": \"df[df\",\n  \"rows\": 240,\n  \"fields\": [\n    {\n      \"column\": \"Parameter 1\",\n      \"properties\": {\n        \"dtype\": \"number\",\n        \"std\": 1.7669630155908271,\n        \"min\": 5.2,\n        \"max\": 15.5,\n        \"num_unique_values\": 64,\n        \"samples\": [\n          9.3,\n          11.1,\n          7.4\n        ],\n        \"semantic_type\": \"\",\n        \"description\": \"\"\n      }\n    },\n    {\n      \"column\": \"Parameter 2\",\n      \"properties\": {\n        \"dtype\": \"number\",\n        \"std\": 0.15466509996937114,\n        \"min\": 0.12,\n        \"max\": 1.0,\n        \"num_unique_values\": 77,\n        \"samples\": [\n          0.725,\n          0.415,\n          0.55\n        ],\n        \"semantic_type\": \"\",\n        \"description\": \"\"\n      }\n    },\n    {\n      \"column\": \"Parameter 3\",\n      \"properties\": {\n        \"dtype\": \"number\",\n        \"std\": 0.19080209010167776,\n        \"min\": 0.0,\n        \"max\": 0.74,\n        \"num_unique_values\": 64,\n        \"samples\": [\n          0.13,\n          0.37,\n          0.0\n        ],\n        \"semantic_type\": \"\",\n        \"description\": \"\"\n      }\n    },\n    {\n      \"column\": \"Parameter 4\",\n      \"properties\": {\n        \"dtype\": \"number\",\n        \"std\": 1.7004364927979674,\n        \"min\": 0.9,\n        \"max\": 15.4,\n        \"num_unique_values\": 44,\n        \"samples\": [\n          0.9,\n          6.55,\n          2.7\n        ],\n        \"semantic_type\": \"\",\n        \"description\": \"\"\n      }\n    },\n    {\n      \"column\": \"Parameter 5\",\n      \"properties\": {\n        \"dtype\": \"number\",\n        \"std\": 0.03068148528105515,\n        \"min\": 0.012,\n        \"max\": 0.415,\n        \"num_unique_values\": 69,\n        \"samples\": [\n          0.065,\n          0.076,\n          0.114\n        ],\n        \"semantic_type\": \"\",\n        \"description\": \"\"\n      }\n    },\n    {\n      \"column\": \"Parameter 6\",\n      \"properties\": {\n        \"dtype\": \"number\",\n        \"std\": 10.554182940679386,\n        \"min\": 1.0,\n        \"max\": 68.0,\n        \"num_unique_values\": 43,\n        \"samples\": [\n          51.0,\n          38.0,\n          26.0\n        ],\n        \"semantic_type\": \"\",\n        \"description\": \"\"\n      }\n    },\n    {\n      \"column\": \"Parameter 7\",\n      \"properties\": {\n        \"dtype\": \"number\",\n        \"std\": 29.803812760379973,\n        \"min\": 6.0,\n        \"max\": 147.0,\n        \"num_unique_values\": 94,\n        \"samples\": [\n          81.0,\n          61.0,\n          10.0\n        ],\n        \"semantic_type\": \"\",\n        \"description\": \"\"\n      }\n    },\n    {\n      \"column\": \"Parameter 8\",\n      \"properties\": {\n        \"dtype\": \"number\",\n        \"std\": 0.001978906309381779,\n        \"min\": 0.99007,\n        \"max\": 1.00369,\n        \"num_unique_values\": 148,\n        \"samples\": [\n          0.99704,\n          0.99803,\n          0.99508\n        ],\n        \"semantic_type\": \"\",\n        \"description\": \"\"\n      }\n    },\n    {\n      \"column\": \"Parameter 9\",\n      \"properties\": {\n        \"dtype\": \"number\",\n        \"std\": 0.150750510868775,\n        \"min\": 2.89,\n        \"max\": 3.72,\n        \"num_unique_values\": 66,\n        \"samples\": [\n          3.59,\n          3.49,\n          3.51\n        ],\n        \"semantic_type\": \"\",\n        \"description\": \"\"\n      }\n    },\n    {\n      \"column\": \"Parameter 10\",\n      \"properties\": {\n        \"dtype\": \"number\",\n        \"std\": 0.16309249884625693,\n        \"min\": 0.39,\n        \"max\": 1.95,\n        \"num_unique_values\": 57,\n        \"samples\": [\n          0.56,\n          0.66,\n          0.69\n        ],\n        \"semantic_type\": \"\",\n        \"description\": \"\"\n      }\n    },\n    {\n      \"column\": \"Parameter 11\",\n      \"properties\": {\n        \"dtype\": \"number\",\n        \"std\": 0.9679820700495906,\n        \"min\": 8.8,\n        \"max\": 14.0,\n        \"num_unique_values\": 41,\n        \"samples\": [\n          11.2,\n          11.0,\n          13.0\n        ],\n        \"semantic_type\": \"\",\n        \"description\": \"\"\n      }\n    },\n    {\n      \"column\": \"Signal_Strength\",\n      \"properties\": {\n        \"dtype\": \"number\",\n        \"std\": 0,\n        \"min\": 5,\n        \"max\": 8,\n        \"num_unique_values\": 4,\n        \"samples\": [\n          6,\n          8,\n          5\n        ],\n        \"semantic_type\": \"\",\n        \"description\": \"\"\n      }\n    }\n  ]\n}"
            }
          },
          "metadata": {},
          "execution_count": 12
        }
      ]
    },
    {
      "cell_type": "code",
      "source": [
        "df = df.drop_duplicates(keep='first') #keeping only the first occurunces"
      ],
      "metadata": {
        "id": "R1zMRc93rANS"
      },
      "execution_count": null,
      "outputs": []
    },
    {
      "cell_type": "code",
      "source": [
        "duplicates = df.duplicated().sum()\n",
        "print('Duplicate Records:', duplicates)"
      ],
      "metadata": {
        "colab": {
          "base_uri": "https://localhost:8080/"
        },
        "id": "LWaRed4luF_2",
        "outputId": "2795cb4f-ecbd-4f97-89f0-d52e0a9f775b"
      },
      "execution_count": null,
      "outputs": [
        {
          "output_type": "stream",
          "name": "stdout",
          "text": [
            "Duplicate Records: 0\n"
          ]
        }
      ]
    },
    {
      "cell_type": "code",
      "source": [
        "df[df.duplicated()]"
      ],
      "metadata": {
        "colab": {
          "base_uri": "https://localhost:8080/",
          "height": 53
        },
        "id": "cL439yHuuLyF",
        "outputId": "21a3f8e3-c4c4-4d7f-b9d9-f0eda120b114"
      },
      "execution_count": null,
      "outputs": [
        {
          "output_type": "execute_result",
          "data": {
            "text/plain": [
              "Empty DataFrame\n",
              "Columns: [Parameter 1, Parameter 2, Parameter 3, Parameter 4, Parameter 5, Parameter 6, Parameter 7, Parameter 8, Parameter 9, Parameter 10, Parameter 11, Signal_Strength]\n",
              "Index: []"
            ],
            "text/html": [
              "\n",
              "  <div id=\"df-10dd7f3b-a887-411c-8374-a3b52ef4afce\" class=\"colab-df-container\">\n",
              "    <div>\n",
              "<style scoped>\n",
              "    .dataframe tbody tr th:only-of-type {\n",
              "        vertical-align: middle;\n",
              "    }\n",
              "\n",
              "    .dataframe tbody tr th {\n",
              "        vertical-align: top;\n",
              "    }\n",
              "\n",
              "    .dataframe thead th {\n",
              "        text-align: right;\n",
              "    }\n",
              "</style>\n",
              "<table border=\"1\" class=\"dataframe\">\n",
              "  <thead>\n",
              "    <tr style=\"text-align: right;\">\n",
              "      <th></th>\n",
              "      <th>Parameter 1</th>\n",
              "      <th>Parameter 2</th>\n",
              "      <th>Parameter 3</th>\n",
              "      <th>Parameter 4</th>\n",
              "      <th>Parameter 5</th>\n",
              "      <th>Parameter 6</th>\n",
              "      <th>Parameter 7</th>\n",
              "      <th>Parameter 8</th>\n",
              "      <th>Parameter 9</th>\n",
              "      <th>Parameter 10</th>\n",
              "      <th>Parameter 11</th>\n",
              "      <th>Signal_Strength</th>\n",
              "    </tr>\n",
              "  </thead>\n",
              "  <tbody>\n",
              "  </tbody>\n",
              "</table>\n",
              "</div>\n",
              "    <div class=\"colab-df-buttons\">\n",
              "\n",
              "  <div class=\"colab-df-container\">\n",
              "    <button class=\"colab-df-convert\" onclick=\"convertToInteractive('df-10dd7f3b-a887-411c-8374-a3b52ef4afce')\"\n",
              "            title=\"Convert this dataframe to an interactive table.\"\n",
              "            style=\"display:none;\">\n",
              "\n",
              "  <svg xmlns=\"http://www.w3.org/2000/svg\" height=\"24px\" viewBox=\"0 -960 960 960\">\n",
              "    <path d=\"M120-120v-720h720v720H120Zm60-500h600v-160H180v160Zm220 220h160v-160H400v160Zm0 220h160v-160H400v160ZM180-400h160v-160H180v160Zm440 0h160v-160H620v160ZM180-180h160v-160H180v160Zm440 0h160v-160H620v160Z\"/>\n",
              "  </svg>\n",
              "    </button>\n",
              "\n",
              "  <style>\n",
              "    .colab-df-container {\n",
              "      display:flex;\n",
              "      gap: 12px;\n",
              "    }\n",
              "\n",
              "    .colab-df-convert {\n",
              "      background-color: #E8F0FE;\n",
              "      border: none;\n",
              "      border-radius: 50%;\n",
              "      cursor: pointer;\n",
              "      display: none;\n",
              "      fill: #1967D2;\n",
              "      height: 32px;\n",
              "      padding: 0 0 0 0;\n",
              "      width: 32px;\n",
              "    }\n",
              "\n",
              "    .colab-df-convert:hover {\n",
              "      background-color: #E2EBFA;\n",
              "      box-shadow: 0px 1px 2px rgba(60, 64, 67, 0.3), 0px 1px 3px 1px rgba(60, 64, 67, 0.15);\n",
              "      fill: #174EA6;\n",
              "    }\n",
              "\n",
              "    .colab-df-buttons div {\n",
              "      margin-bottom: 4px;\n",
              "    }\n",
              "\n",
              "    [theme=dark] .colab-df-convert {\n",
              "      background-color: #3B4455;\n",
              "      fill: #D2E3FC;\n",
              "    }\n",
              "\n",
              "    [theme=dark] .colab-df-convert:hover {\n",
              "      background-color: #434B5C;\n",
              "      box-shadow: 0px 1px 3px 1px rgba(0, 0, 0, 0.15);\n",
              "      filter: drop-shadow(0px 1px 2px rgba(0, 0, 0, 0.3));\n",
              "      fill: #FFFFFF;\n",
              "    }\n",
              "  </style>\n",
              "\n",
              "    <script>\n",
              "      const buttonEl =\n",
              "        document.querySelector('#df-10dd7f3b-a887-411c-8374-a3b52ef4afce button.colab-df-convert');\n",
              "      buttonEl.style.display =\n",
              "        google.colab.kernel.accessAllowed ? 'block' : 'none';\n",
              "\n",
              "      async function convertToInteractive(key) {\n",
              "        const element = document.querySelector('#df-10dd7f3b-a887-411c-8374-a3b52ef4afce');\n",
              "        const dataTable =\n",
              "          await google.colab.kernel.invokeFunction('convertToInteractive',\n",
              "                                                    [key], {});\n",
              "        if (!dataTable) return;\n",
              "\n",
              "        const docLinkHtml = 'Like what you see? Visit the ' +\n",
              "          '<a target=\"_blank\" href=https://colab.research.google.com/notebooks/data_table.ipynb>data table notebook</a>'\n",
              "          + ' to learn more about interactive tables.';\n",
              "        element.innerHTML = '';\n",
              "        dataTable['output_type'] = 'display_data';\n",
              "        await google.colab.output.renderOutput(dataTable, element);\n",
              "        const docLink = document.createElement('div');\n",
              "        docLink.innerHTML = docLinkHtml;\n",
              "        element.appendChild(docLink);\n",
              "      }\n",
              "    </script>\n",
              "  </div>\n",
              "\n",
              "\n",
              "    </div>\n",
              "  </div>\n"
            ],
            "application/vnd.google.colaboratory.intrinsic+json": {
              "type": "dataframe",
              "summary": "{\n  \"name\": \"df[df\",\n  \"rows\": 0,\n  \"fields\": [\n    {\n      \"column\": \"Parameter 1\",\n      \"properties\": {\n        \"dtype\": \"number\",\n        \"std\": null,\n        \"min\": null,\n        \"max\": null,\n        \"num_unique_values\": 0,\n        \"samples\": [],\n        \"semantic_type\": \"\",\n        \"description\": \"\"\n      }\n    },\n    {\n      \"column\": \"Parameter 2\",\n      \"properties\": {\n        \"dtype\": \"number\",\n        \"std\": null,\n        \"min\": null,\n        \"max\": null,\n        \"num_unique_values\": 0,\n        \"samples\": [],\n        \"semantic_type\": \"\",\n        \"description\": \"\"\n      }\n    },\n    {\n      \"column\": \"Parameter 3\",\n      \"properties\": {\n        \"dtype\": \"number\",\n        \"std\": null,\n        \"min\": null,\n        \"max\": null,\n        \"num_unique_values\": 0,\n        \"samples\": [],\n        \"semantic_type\": \"\",\n        \"description\": \"\"\n      }\n    },\n    {\n      \"column\": \"Parameter 4\",\n      \"properties\": {\n        \"dtype\": \"number\",\n        \"std\": null,\n        \"min\": null,\n        \"max\": null,\n        \"num_unique_values\": 0,\n        \"samples\": [],\n        \"semantic_type\": \"\",\n        \"description\": \"\"\n      }\n    },\n    {\n      \"column\": \"Parameter 5\",\n      \"properties\": {\n        \"dtype\": \"number\",\n        \"std\": null,\n        \"min\": null,\n        \"max\": null,\n        \"num_unique_values\": 0,\n        \"samples\": [],\n        \"semantic_type\": \"\",\n        \"description\": \"\"\n      }\n    },\n    {\n      \"column\": \"Parameter 6\",\n      \"properties\": {\n        \"dtype\": \"number\",\n        \"std\": null,\n        \"min\": null,\n        \"max\": null,\n        \"num_unique_values\": 0,\n        \"samples\": [],\n        \"semantic_type\": \"\",\n        \"description\": \"\"\n      }\n    },\n    {\n      \"column\": \"Parameter 7\",\n      \"properties\": {\n        \"dtype\": \"number\",\n        \"std\": null,\n        \"min\": null,\n        \"max\": null,\n        \"num_unique_values\": 0,\n        \"samples\": [],\n        \"semantic_type\": \"\",\n        \"description\": \"\"\n      }\n    },\n    {\n      \"column\": \"Parameter 8\",\n      \"properties\": {\n        \"dtype\": \"number\",\n        \"std\": null,\n        \"min\": null,\n        \"max\": null,\n        \"num_unique_values\": 0,\n        \"samples\": [],\n        \"semantic_type\": \"\",\n        \"description\": \"\"\n      }\n    },\n    {\n      \"column\": \"Parameter 9\",\n      \"properties\": {\n        \"dtype\": \"number\",\n        \"std\": null,\n        \"min\": null,\n        \"max\": null,\n        \"num_unique_values\": 0,\n        \"samples\": [],\n        \"semantic_type\": \"\",\n        \"description\": \"\"\n      }\n    },\n    {\n      \"column\": \"Parameter 10\",\n      \"properties\": {\n        \"dtype\": \"number\",\n        \"std\": null,\n        \"min\": null,\n        \"max\": null,\n        \"num_unique_values\": 0,\n        \"samples\": [],\n        \"semantic_type\": \"\",\n        \"description\": \"\"\n      }\n    },\n    {\n      \"column\": \"Parameter 11\",\n      \"properties\": {\n        \"dtype\": \"number\",\n        \"std\": null,\n        \"min\": null,\n        \"max\": null,\n        \"num_unique_values\": 0,\n        \"samples\": [],\n        \"semantic_type\": \"\",\n        \"description\": \"\"\n      }\n    },\n    {\n      \"column\": \"Signal_Strength\",\n      \"properties\": {\n        \"dtype\": \"number\",\n        \"std\": null,\n        \"min\": null,\n        \"max\": null,\n        \"num_unique_values\": 0,\n        \"samples\": [],\n        \"semantic_type\": \"\",\n        \"description\": \"\"\n      }\n    }\n  ]\n}"
            }
          },
          "metadata": {},
          "execution_count": 15
        }
      ]
    },
    {
      "cell_type": "code",
      "source": [
        "df.shape"
      ],
      "metadata": {
        "colab": {
          "base_uri": "https://localhost:8080/"
        },
        "id": "8MHroVgPuOfu",
        "outputId": "973d44e2-93af-4448-97c5-48e45eb78729"
      },
      "execution_count": null,
      "outputs": [
        {
          "output_type": "execute_result",
          "data": {
            "text/plain": [
              "(1359, 12)"
            ]
          },
          "metadata": {},
          "execution_count": 16
        }
      ]
    },
    {
      "cell_type": "code",
      "source": [
        "#visualizing target variable\n",
        "sns.histplot(df['Signal_Strength'])\n",
        "plt.title('Distribution of Target Variable')"
      ],
      "metadata": {
        "colab": {
          "base_uri": "https://localhost:8080/",
          "height": 490
        },
        "id": "evyrmt29uglX",
        "outputId": "99f4a8b3-7216-4b87-99da-872ef7928869"
      },
      "execution_count": null,
      "outputs": [
        {
          "output_type": "execute_result",
          "data": {
            "text/plain": [
              "Text(0.5, 1.0, 'Distribution of Target Variable')"
            ]
          },
          "metadata": {},
          "execution_count": 17
        },
        {
          "output_type": "display_data",
          "data": {
            "text/plain": [
              "<Figure size 640x480 with 1 Axes>"
            ],
            "image/png": "[encoded data removed]"
          },
          "metadata": {}
        }
      ]
    },
    {
      "cell_type": "markdown",
      "source": [
        "Insights:\n",
        "1. Target Variable Distribution: The histogram indicates that the data points are concentrated towards the lower values of the signal strength with a smaller number of higher signal strength values. This skewness might impact the choice of model and evaluation metrics.\n",
        "\n",
        "2. Mode: The most frequent signal strength appears to be 5. This suggests that the majority of data points fall within this category."
      ],
      "metadata": {
        "id": "aUtu6BWpv0n5"
      }
    },
    {
      "cell_type": "markdown",
      "source": [
        "###2. Data preprocessing"
      ],
      "metadata": {
        "id": "0WjxZXAYw0yI"
      }
    },
    {
      "cell_type": "code",
      "source": [
        "X = df.drop('Signal_Strength', axis=1)\n",
        "y = df['Signal_Strength']\n",
        "\n",
        "print('X Shape:', X.shape)\n",
        "print('y Shape:', y.shape)"
      ],
      "metadata": {
        "id": "lB135Fopw5xv",
        "colab": {
          "base_uri": "https://localhost:8080/"
        },
        "outputId": "888c3bff-c30a-40bd-b26c-fc48f64b0fc6"
      },
      "execution_count": null,
      "outputs": [
        {
          "output_type": "stream",
          "name": "stdout",
          "text": [
            "X Shape: (1359, 11)\n",
            "y Shape: (1359,)\n"
          ]
        }
      ]
    },
    {
      "cell_type": "code",
      "source": [
        "#Splitting into train and test data\n",
        "X_train, X_test, y_train, y_test = train_test_split(X, y, test_size=0.3, random_state=1)"
      ],
      "metadata": {
        "id": "msOYgUQGQi50"
      },
      "execution_count": null,
      "outputs": []
    },
    {
      "cell_type": "code",
      "source": [
        "#printing shape of all the 4 variables\n",
        "print('X Train Shape:', X_train.shape)\n",
        "print('y Train Shape:', y_train.shape)\n",
        "print('X Test Shape:', X_test.shape)\n",
        "print('y Test Shape:', y_test.shape)"
      ],
      "metadata": {
        "colab": {
          "base_uri": "https://localhost:8080/"
        },
        "id": "MoqRFJE6RVvi",
        "outputId": "144fef7f-4f19-4b8a-9bc9-3c119b4e75d0"
      },
      "execution_count": null,
      "outputs": [
        {
          "output_type": "stream",
          "name": "stdout",
          "text": [
            "X Train Shape: (951, 11)\n",
            "y Train Shape: (951,)\n",
            "X Test Shape: (408, 11)\n",
            "y Test Shape: (408,)\n"
          ]
        }
      ]
    },
    {
      "cell_type": "code",
      "source": [
        "scaler = MinMaxScaler().fit(X_train) #creating and fitting the min-maxscaler to the data"
      ],
      "metadata": {
        "id": "6Ht2TvJWU6zU"
      },
      "execution_count": null,
      "outputs": []
    },
    {
      "cell_type": "code",
      "source": [
        "#transforming the train and test data\n",
        "X_train_scaled = scaler.transform(X_train)\n",
        "X_test_scaled = scaler.transform(X_test)"
      ],
      "metadata": {
        "id": "W5-dtUH6VnJZ"
      },
      "execution_count": null,
      "outputs": []
    },
    {
      "cell_type": "code",
      "source": [
        "print(\"Before normalization:\")\n",
        "print(X_train.describe())\n",
        "\n",
        "print(\"\\nAfter normalization:\")\n",
        "print(pd.DataFrame(X_train_scaled).describe())"
      ],
      "metadata": {
        "colab": {
          "base_uri": "https://localhost:8080/"
        },
        "id": "lJsCdzVlXBzL",
        "outputId": "999ff12e-6fb9-4b33-b995-d1d1f0233673"
      },
      "execution_count": null,
      "outputs": [
        {
          "output_type": "stream",
          "name": "stdout",
          "text": [
            "Before normalization:\n",
            "       Parameter 1  Parameter 2  Parameter 3  Parameter 4  Parameter 5  \\\n",
            "count   951.000000   951.000000   951.000000   951.000000   951.000000   \n",
            "mean      8.333544     0.526151     0.274196     2.531283     0.087773   \n",
            "std       1.761052     0.186114     0.195464     1.322431     0.048533   \n",
            "min       5.000000     0.120000     0.000000     0.900000     0.012000   \n",
            "25%       7.100000     0.390000     0.100000     1.900000     0.070000   \n",
            "50%       7.900000     0.510000     0.260000     2.200000     0.079000   \n",
            "75%       9.200000     0.640000     0.430000     2.600000     0.091000   \n",
            "max      15.900000     1.580000     0.790000    15.500000     0.611000   \n",
            "\n",
            "       Parameter 6  Parameter 7  Parameter 8  Parameter 9  Parameter 10  \\\n",
            "count   951.000000   951.000000   951.000000   951.000000    951.000000   \n",
            "mean     15.875394    46.163512     0.996719     3.307676      0.655510   \n",
            "std      10.569245    32.128833     0.001860     0.150629      0.159821   \n",
            "min       1.000000     6.000000     0.990070     2.860000      0.330000   \n",
            "25%       7.000000    21.000000     0.995600     3.210000      0.550000   \n",
            "50%      13.000000    38.000000     0.996690     3.300000      0.620000   \n",
            "75%      22.000000    63.000000     0.997845     3.400000      0.730000   \n",
            "max      68.000000   155.000000     1.003200     4.010000      1.620000   \n",
            "\n",
            "       Parameter 11  \n",
            "count    951.000000  \n",
            "mean      10.432369  \n",
            "std        1.077459  \n",
            "min        8.400000  \n",
            "25%        9.500000  \n",
            "50%       10.200000  \n",
            "75%       11.150000  \n",
            "max       14.900000  \n",
            "\n",
            "After normalization:\n",
            "               0           1           2           3           4           5   \\\n",
            "count  951.000000  951.000000  951.000000  951.000000  951.000000  951.000000   \n",
            "mean     0.305830    0.278186    0.347083    0.111732    0.126499    0.222021   \n",
            "std      0.161564    0.127475    0.247422    0.090577    0.081023    0.157750   \n",
            "min      0.000000    0.000000    0.000000    0.000000    0.000000    0.000000   \n",
            "25%      0.192661    0.184932    0.126582    0.068493    0.096828    0.089552   \n",
            "50%      0.266055    0.267123    0.329114    0.089041    0.111853    0.179104   \n",
            "75%      0.385321    0.356164    0.544304    0.116438    0.131886    0.313433   \n",
            "max      1.000000    1.000000    1.000000    1.000000    1.000000    1.000000   \n",
            "\n",
            "               6           7           8           9           10  \n",
            "count  951.000000  951.000000  951.000000  951.000000  951.000000  \n",
            "mean     0.269554    0.506394    0.389284    0.252333    0.312672  \n",
            "std      0.215630    0.141622    0.130982    0.123892    0.165763  \n",
            "min      0.000000    0.000000    0.000000    0.000000    0.000000  \n",
            "25%      0.100671    0.421173    0.304348    0.170543    0.169231  \n",
            "50%      0.214765    0.504189    0.382609    0.224806    0.276923  \n",
            "75%      0.382550    0.592155    0.469565    0.310078    0.423077  \n",
            "max      1.000000    1.000000    1.000000    1.000000    1.000000  \n"
          ]
        }
      ]
    },
    {
      "cell_type": "code",
      "source": [
        "onehot_encoder = OneHotEncoder(sparse=False)\n",
        "y_encoded = onehot_encoder.fit_transform(df['Signal_Strength'].values.reshape(-1,1))"
      ],
      "metadata": {
        "colab": {
          "base_uri": "https://localhost:8080/"
        },
        "id": "S7lKi_SPYOSG",
        "outputId": "692aa688-cc1a-416f-de2f-a402fdd5e550"
      },
      "execution_count": null,
      "outputs": [
        {
          "output_type": "stream",
          "name": "stderr",
          "text": [
            "/usr/local/lib/python3.10/dist-packages/sklearn/preprocessing/_encoders.py:975: FutureWarning: `sparse` was renamed to `sparse_output` in version 1.2 and will be removed in 1.4. `sparse_output` is ignored unless you leave `sparse` to its default value.\n",
            "  warnings.warn(\n"
          ]
        }
      ]
    },
    {
      "cell_type": "code",
      "source": [
        "y_encoded.shape"
      ],
      "metadata": {
        "colab": {
          "base_uri": "https://localhost:8080/"
        },
        "id": "5DIEfVI1gTBl",
        "outputId": "612b15d1-81ff-46f8-c6df-e6a14d9b69d7"
      },
      "execution_count": null,
      "outputs": [
        {
          "output_type": "execute_result",
          "data": {
            "text/plain": [
              "(1359, 6)"
            ]
          },
          "metadata": {},
          "execution_count": 73
        }
      ]
    },
    {
      "cell_type": "markdown",
      "source": [
        "###3. Model Training & Evaluation using Neural Network"
      ],
      "metadata": {
        "id": "F38ZeQ5Agl5w"
      }
    },
    {
      "cell_type": "code",
      "source": [
        "# Assuming you have already split X into X_train and X_test\n",
        "X_train, X_test, y_train_encoded, y_test_encoded = train_test_split(X, y_encoded, test_size=0.3, random_state=1)"
      ],
      "metadata": {
        "id": "76S2T7TGlEnN"
      },
      "execution_count": null,
      "outputs": []
    },
    {
      "cell_type": "code",
      "source": [
        "X_train, X_val, y_train_encoded, y_val_encoded = train_test_split(X_train, y_train_encoded, test_size=0.2, random_state=1)"
      ],
      "metadata": {
        "id": "oOorCkC-oEE9"
      },
      "execution_count": null,
      "outputs": []
    },
    {
      "cell_type": "code",
      "source": [
        "num_features = X_train.shape[1]\n",
        "model = tf.keras.Sequential([\n",
        "    tf.keras.layers.Dense(64, activation='relu', input_shape=(num_features,)),\n",
        "    tf.keras.layers.Dense(32, activation='relu'),\n",
        "    tf.keras.layers.Dense(6, activation='softmax')])\n",
        "\n",
        "model.compile(optimizer='adam',loss='categorical_crossentropy',metrics=['accuracy'])\n",
        "\n",
        "history = model.fit(X_train, y_train_encoded, epochs=10, batch_size=3,validation_data=(X_val, y_val_encoded))\n",
        "\n",
        "test_loss, test_acc = model.evaluate(X_test, y_test_encoded)\n",
        "print('Test accuracy:', test_acc)"
      ],
      "metadata": {
        "colab": {
          "base_uri": "https://localhost:8080/"
        },
        "id": "RQYEaaBBlKhx",
        "outputId": "8b1b9ef8-e03d-4831-fc3f-c0f54bdee16a"
      },
      "execution_count": null,
      "outputs": [
        {
          "output_type": "stream",
          "name": "stdout",
          "text": [
            "Epoch 1/10\n"
          ]
        },
        {
          "output_type": "stream",
          "name": "stderr",
          "text": [
            "/usr/local/lib/python3.10/dist-packages/keras/src/layers/core/dense.py:87: UserWarning: Do not pass an `input_shape`/`input_dim` argument to a layer. When using Sequential models, prefer using an `Input(shape)` object as the first layer in the model instead.\n",
            "  super().__init__(activity_regularizer=activity_regularizer, **kwargs)\n"
          ]
        },
        {
          "output_type": "stream",
          "name": "stdout",
          "text": [
            "\u001b[1m254/254\u001b[0m \u001b[32m━━━━━━━━━━━━━━━━━━━━\u001b[0m\u001b[37m\u001b[0m \u001b[1m4s\u001b[0m 4ms/step - accuracy: 0.3572 - loss: 2.3603 - val_accuracy: 0.5183 - val_loss: 1.2458\n",
            "Epoch 2/10\n",
            "\u001b[1m254/254\u001b[0m \u001b[32m━━━━━━━━━━━━━━━━━━━━\u001b[0m\u001b[37m\u001b[0m \u001b[1m1s\u001b[0m 3ms/step - accuracy: 0.4319 - loss: 1.2336 - val_accuracy: 0.5550 - val_loss: 1.2644\n",
            "Epoch 3/10\n",
            "\u001b[1m254/254\u001b[0m \u001b[32m━━━━━━━━━━━━━━━━━━━━\u001b[0m\u001b[37m\u001b[0m \u001b[1m1s\u001b[0m 2ms/step - accuracy: 0.5036 - loss: 1.1840 - val_accuracy: 0.4398 - val_loss: 1.1866\n",
            "Epoch 4/10\n",
            "\u001b[1m254/254\u001b[0m \u001b[32m━━━━━━━━━━━━━━━━━━━━\u001b[0m\u001b[37m\u001b[0m \u001b[1m1s\u001b[0m 2ms/step - accuracy: 0.4628 - loss: 1.1573 - val_accuracy: 0.4974 - val_loss: 1.1846\n",
            "Epoch 5/10\n",
            "\u001b[1m254/254\u001b[0m \u001b[32m━━━━━━━━━━━━━━━━━━━━\u001b[0m\u001b[37m\u001b[0m \u001b[1m1s\u001b[0m 2ms/step - accuracy: 0.4930 - loss: 1.1153 - val_accuracy: 0.4241 - val_loss: 1.2975\n",
            "Epoch 6/10\n",
            "\u001b[1m254/254\u001b[0m \u001b[32m━━━━━━━━━━━━━━━━━━━━\u001b[0m\u001b[37m\u001b[0m \u001b[1m1s\u001b[0m 2ms/step - accuracy: 0.4227 - loss: 1.2020 - val_accuracy: 0.4869 - val_loss: 1.2651\n",
            "Epoch 7/10\n",
            "\u001b[1m254/254\u001b[0m \u001b[32m━━━━━━━━━━━━━━━━━━━━\u001b[0m\u001b[37m\u001b[0m \u001b[1m1s\u001b[0m 2ms/step - accuracy: 0.5035 - loss: 1.1109 - val_accuracy: 0.5026 - val_loss: 1.0933\n",
            "Epoch 8/10\n",
            "\u001b[1m254/254\u001b[0m \u001b[32m━━━━━━━━━━━━━━━━━━━━\u001b[0m\u001b[37m\u001b[0m \u001b[1m0s\u001b[0m 2ms/step - accuracy: 0.5116 - loss: 1.1034 - val_accuracy: 0.5445 - val_loss: 1.0851\n",
            "Epoch 9/10\n",
            "\u001b[1m254/254\u001b[0m \u001b[32m━━━━━━━━━━━━━━━━━━━━\u001b[0m\u001b[37m\u001b[0m \u001b[1m1s\u001b[0m 2ms/step - accuracy: 0.4900 - loss: 1.1421 - val_accuracy: 0.5236 - val_loss: 1.0615\n",
            "Epoch 10/10\n",
            "\u001b[1m254/254\u001b[0m \u001b[32m━━━━━━━━━━━━━━━━━━━━\u001b[0m\u001b[37m\u001b[0m \u001b[1m1s\u001b[0m 2ms/step - accuracy: 0.5291 - loss: 1.0722 - val_accuracy: 0.5026 - val_loss: 1.1687\n",
            "\u001b[1m13/13\u001b[0m \u001b[32m━━━━━━━━━━━━━━━━━━━━\u001b[0m\u001b[37m\u001b[0m \u001b[1m0s\u001b[0m 2ms/step - accuracy: 0.5356 - loss: 1.1745 \n",
            "Test accuracy: 0.5269607901573181\n"
          ]
        }
      ]
    },
    {
      "cell_type": "code",
      "source": [
        "# Plotting training and validation loss\n",
        "plt.figure(figsize=(12, 4))\n",
        "plt.subplot(1, 2, 1)\n",
        "plt.plot(history.history['loss'], label='Training Loss')\n",
        "plt.plot(history.history['val_loss'], label='Validation Loss')\n",
        "plt.title('Training and Validation Loss')\n",
        "plt.xlabel('Epoch')\n",
        "plt.ylabel('Loss')\n",
        "plt.legend()\n",
        "\n",
        "# Plotting training and validation accuracy\n",
        "plt.subplot(1, 2, 2)\n",
        "plt.plot(history.history['accuracy'], label='Training Accuracy')\n",
        "plt.plot(history.history['val_accuracy'], label='Validation Accuracy')\n",
        "plt.title('Training and Validation Accuracy')\n",
        "plt.xlabel('Epoch')\n",
        "plt.ylabel('Accuracy')\n",
        "plt.legend()\n",
        "\n",
        "plt.tight_layout()\n",
        "plt.show()"
      ],
      "metadata": {
        "colab": {
          "base_uri": "https://localhost:8080/",
          "height": 407
        },
        "id": "-ES8e_tynDSk",
        "outputId": "5b32f9be-131e-40b4-ee2a-4973e9e321f7"
      },
      "execution_count": null,
      "outputs": [
        {
          "output_type": "display_data",
          "data": {
            "text/plain": [
              "<Figure size 1200x400 with 2 Axes>"
            ],
            "image/png": "[encoded data removed]"
          },
          "metadata": {}
        }
      ]
    },
    {
      "cell_type": "code",
      "source": [
        "model = tf.keras.Sequential([\n",
        "    tf.keras.layers.Dense(64, activation='relu', input_shape=(num_features,)),\n",
        "    tf.keras.layers.Dropout(0.2),  # Add dropout\n",
        "    tf.keras.layers.Dense(32, activation='relu'),\n",
        "    tf.keras.layers.Dropout(0.2),  # Add dropout\n",
        "    tf.keras.layers.Dense(6, activation='softmax')\n",
        "])\n",
        "\n",
        "model.compile(optimizer=tf.keras.optimizers.Adam(learning_rate=0.0001),  # Adjust learning rate\n",
        "              loss='categorical_crossentropy',\n",
        "              metrics=['accuracy'])\n",
        "\n",
        "history = model.fit(X_train, y_train_encoded, epochs=100, batch_size=3,validation_data=(X_val, y_val_encoded))\n",
        "\n",
        "test_loss, test_acc = model.evaluate(X_test, y_test_encoded)\n",
        "print('Test accuracy:', test_acc)"
      ],
      "metadata": {
        "colab": {
          "base_uri": "https://localhost:8080/"
        },
        "id": "RFXP7xDQow1K",
        "outputId": "d98dc575-589c-4247-af53-f64ddc2e8813"
      },
      "execution_count": null,
      "outputs": [
        {
          "output_type": "stream",
          "name": "stdout",
          "text": [
            "Epoch 1/100\n"
          ]
        },
        {
          "output_type": "stream",
          "name": "stderr",
          "text": [
            "/usr/local/lib/python3.10/dist-packages/keras/src/layers/core/dense.py:87: UserWarning: Do not pass an `input_shape`/`input_dim` argument to a layer. When using Sequential models, prefer using an `Input(shape)` object as the first layer in the model instead.\n",
            "  super().__init__(activity_regularizer=activity_regularizer, **kwargs)\n"
          ]
        },
        {
          "output_type": "stream",
          "name": "stdout",
          "text": [
            "\u001b[1m254/254\u001b[0m \u001b[32m━━━━━━━━━━━━━━━━━━━━\u001b[0m\u001b[37m\u001b[0m \u001b[1m4s\u001b[0m 5ms/step - accuracy: 0.2973 - loss: 5.0967 - val_accuracy: 0.4764 - val_loss: 2.0679\n",
            "Epoch 2/100\n",
            "\u001b[1m254/254\u001b[0m \u001b[32m━━━━━━━━━━━━━━━━━━━━\u001b[0m\u001b[37m\u001b[0m \u001b[1m1s\u001b[0m 2ms/step - accuracy: 0.3782 - loss: 3.4701 - val_accuracy: 0.5445 - val_loss: 1.5511\n",
            "Epoch 3/100\n",
            "\u001b[1m254/254\u001b[0m \u001b[32m━━━━━━━━━━━━━━━━━━━━\u001b[0m\u001b[37m\u001b[0m \u001b[1m1s\u001b[0m 2ms/step - accuracy: 0.3384 - loss: 3.3092 - val_accuracy: 0.4607 - val_loss: 1.3985\n",
            "Epoch 4/100\n",
            "\u001b[1m254/254\u001b[0m \u001b[32m━━━━━━━━━━━━━━━━━━━━\u001b[0m\u001b[37m\u001b[0m \u001b[1m1s\u001b[0m 2ms/step - accuracy: 0.3532 - loss: 2.8848 - val_accuracy: 0.4607 - val_loss: 1.4248\n",
            "Epoch 5/100\n",
            "\u001b[1m254/254\u001b[0m \u001b[32m━━━━━━━━━━━━━━━━━━━━\u001b[0m\u001b[37m\u001b[0m \u001b[1m1s\u001b[0m 2ms/step - accuracy: 0.4010 - loss: 2.4962 - val_accuracy: 0.4503 - val_loss: 1.3173\n",
            "Epoch 6/100\n",
            "\u001b[1m254/254\u001b[0m \u001b[32m━━━━━━━━━━━━━━━━━━━━\u001b[0m\u001b[37m\u001b[0m \u001b[1m1s\u001b[0m 3ms/step - accuracy: 0.3838 - loss: 2.1378 - val_accuracy: 0.4869 - val_loss: 1.2420\n",
            "Epoch 7/100\n",
            "\u001b[1m254/254\u001b[0m \u001b[32m━━━━━━━━━━━━━━━━━━━━\u001b[0m\u001b[37m\u001b[0m \u001b[1m1s\u001b[0m 3ms/step - accuracy: 0.4060 - loss: 1.9319 - val_accuracy: 0.4921 - val_loss: 1.2579\n",
            "Epoch 8/100\n",
            "\u001b[1m254/254\u001b[0m \u001b[32m━━━━━━━━━━━━━━━━━━━━\u001b[0m\u001b[37m\u001b[0m \u001b[1m1s\u001b[0m 3ms/step - accuracy: 0.4035 - loss: 1.7563 - val_accuracy: 0.4974 - val_loss: 1.2020\n",
            "Epoch 9/100\n",
            "\u001b[1m254/254\u001b[0m \u001b[32m━━━━━━━━━━━━━━━━━━━━\u001b[0m\u001b[37m\u001b[0m \u001b[1m1s\u001b[0m 2ms/step - accuracy: 0.4094 - loss: 1.7949 - val_accuracy: 0.4921 - val_loss: 1.2067\n",
            "Epoch 10/100\n",
            "\u001b[1m254/254\u001b[0m \u001b[32m━━━━━━━━━━━━━━━━━━━━\u001b[0m\u001b[37m\u001b[0m \u001b[1m1s\u001b[0m 2ms/step - accuracy: 0.3930 - loss: 1.7157 - val_accuracy: 0.4869 - val_loss: 1.2197\n",
            "Epoch 11/100\n",
            "\u001b[1m254/254\u001b[0m \u001b[32m━━━━━━━━━━━━━━━━━━━━\u001b[0m\u001b[37m\u001b[0m \u001b[1m1s\u001b[0m 2ms/step - accuracy: 0.3851 - loss: 1.5976 - val_accuracy: 0.4921 - val_loss: 1.2088\n",
            "Epoch 12/100\n",
            "\u001b[1m254/254\u001b[0m \u001b[32m━━━━━━━━━━━━━━━━━━━━\u001b[0m\u001b[37m\u001b[0m \u001b[1m1s\u001b[0m 2ms/step - accuracy: 0.3956 - loss: 1.6515 - val_accuracy: 0.4921 - val_loss: 1.2012\n",
            "Epoch 13/100\n",
            "\u001b[1m254/254\u001b[0m \u001b[32m━━━━━━━━━━━━━━━━━━━━\u001b[0m\u001b[37m\u001b[0m \u001b[1m1s\u001b[0m 2ms/step - accuracy: 0.4208 - loss: 1.5700 - val_accuracy: 0.4817 - val_loss: 1.1857\n",
            "Epoch 14/100\n",
            "\u001b[1m254/254\u001b[0m \u001b[32m━━━━━━━━━━━━━━━━━━━━\u001b[0m\u001b[37m\u001b[0m \u001b[1m1s\u001b[0m 2ms/step - accuracy: 0.4113 - loss: 1.4672 - val_accuracy: 0.4921 - val_loss: 1.1965\n",
            "Epoch 15/100\n",
            "\u001b[1m254/254\u001b[0m \u001b[32m━━━━━━━━━━━━━━━━━━━━\u001b[0m\u001b[37m\u001b[0m \u001b[1m1s\u001b[0m 2ms/step - accuracy: 0.4444 - loss: 1.4691 - val_accuracy: 0.5131 - val_loss: 1.1748\n",
            "Epoch 16/100\n",
            "\u001b[1m254/254\u001b[0m \u001b[32m━━━━━━━━━━━━━━━━━━━━\u001b[0m\u001b[37m\u001b[0m \u001b[1m1s\u001b[0m 2ms/step - accuracy: 0.4182 - loss: 1.4565 - val_accuracy: 0.5236 - val_loss: 1.1753\n",
            "Epoch 17/100\n",
            "\u001b[1m254/254\u001b[0m \u001b[32m━━━━━━━━━━━━━━━━━━━━\u001b[0m\u001b[37m\u001b[0m \u001b[1m1s\u001b[0m 2ms/step - accuracy: 0.4060 - loss: 1.3901 - val_accuracy: 0.5340 - val_loss: 1.1589\n",
            "Epoch 18/100\n",
            "\u001b[1m254/254\u001b[0m \u001b[32m━━━━━━━━━━━━━━━━━━━━\u001b[0m\u001b[37m\u001b[0m \u001b[1m1s\u001b[0m 2ms/step - accuracy: 0.3902 - loss: 1.3383 - val_accuracy: 0.5445 - val_loss: 1.1561\n",
            "Epoch 19/100\n",
            "\u001b[1m254/254\u001b[0m \u001b[32m━━━━━━━━━━━━━━━━━━━━\u001b[0m\u001b[37m\u001b[0m \u001b[1m1s\u001b[0m 2ms/step - accuracy: 0.4495 - loss: 1.3348 - val_accuracy: 0.5393 - val_loss: 1.1548\n",
            "Epoch 20/100\n",
            "\u001b[1m254/254\u001b[0m \u001b[32m━━━━━━━━━━━━━━━━━━━━\u001b[0m\u001b[37m\u001b[0m \u001b[1m1s\u001b[0m 2ms/step - accuracy: 0.4256 - loss: 1.4329 - val_accuracy: 0.5445 - val_loss: 1.1570\n",
            "Epoch 21/100\n",
            "\u001b[1m254/254\u001b[0m \u001b[32m━━━━━━━━━━━━━━━━━━━━\u001b[0m\u001b[37m\u001b[0m \u001b[1m1s\u001b[0m 2ms/step - accuracy: 0.4487 - loss: 1.2163 - val_accuracy: 0.5183 - val_loss: 1.1535\n",
            "Epoch 22/100\n",
            "\u001b[1m254/254\u001b[0m \u001b[32m━━━━━━━━━━━━━━━━━━━━\u001b[0m\u001b[37m\u001b[0m \u001b[1m0s\u001b[0m 2ms/step - accuracy: 0.4551 - loss: 1.2698 - val_accuracy: 0.5236 - val_loss: 1.1500\n",
            "Epoch 23/100\n",
            "\u001b[1m254/254\u001b[0m \u001b[32m━━━━━━━━━━━━━━━━━━━━\u001b[0m\u001b[37m\u001b[0m \u001b[1m1s\u001b[0m 2ms/step - accuracy: 0.4259 - loss: 1.2886 - val_accuracy: 0.5445 - val_loss: 1.1407\n",
            "Epoch 24/100\n",
            "\u001b[1m254/254\u001b[0m \u001b[32m━━━━━━━━━━━━━━━━━━━━\u001b[0m\u001b[37m\u001b[0m \u001b[1m1s\u001b[0m 2ms/step - accuracy: 0.4282 - loss: 1.1662 - val_accuracy: 0.5288 - val_loss: 1.1412\n",
            "Epoch 25/100\n",
            "\u001b[1m254/254\u001b[0m \u001b[32m━━━━━━━━━━━━━━━━━━━━\u001b[0m\u001b[37m\u001b[0m \u001b[1m1s\u001b[0m 2ms/step - accuracy: 0.4472 - loss: 1.2821 - val_accuracy: 0.5288 - val_loss: 1.1418\n",
            "Epoch 26/100\n",
            "\u001b[1m254/254\u001b[0m \u001b[32m━━━━━━━━━━━━━━━━━━━━\u001b[0m\u001b[37m\u001b[0m \u001b[1m1s\u001b[0m 3ms/step - accuracy: 0.4421 - loss: 1.2902 - val_accuracy: 0.5288 - val_loss: 1.1374\n",
            "Epoch 27/100\n",
            "\u001b[1m254/254\u001b[0m \u001b[32m━━━━━━━━━━━━━━━━━━━━\u001b[0m\u001b[37m\u001b[0m \u001b[1m1s\u001b[0m 3ms/step - accuracy: 0.4323 - loss: 1.2758 - val_accuracy: 0.5340 - val_loss: 1.1278\n",
            "Epoch 28/100\n",
            "\u001b[1m254/254\u001b[0m \u001b[32m━━━━━━━━━━━━━━━━━━━━\u001b[0m\u001b[37m\u001b[0m \u001b[1m1s\u001b[0m 3ms/step - accuracy: 0.4273 - loss: 1.3173 - val_accuracy: 0.5131 - val_loss: 1.1254\n",
            "Epoch 29/100\n",
            "\u001b[1m254/254\u001b[0m \u001b[32m━━━━━━━━━━━━━━━━━━━━\u001b[0m\u001b[37m\u001b[0m \u001b[1m1s\u001b[0m 2ms/step - accuracy: 0.4453 - loss: 1.2852 - val_accuracy: 0.5183 - val_loss: 1.1216\n",
            "Epoch 30/100\n",
            "\u001b[1m254/254\u001b[0m \u001b[32m━━━━━━━━━━━━━━━━━━━━\u001b[0m\u001b[37m\u001b[0m \u001b[1m1s\u001b[0m 2ms/step - accuracy: 0.4232 - loss: 1.2729 - val_accuracy: 0.5340 - val_loss: 1.1207\n",
            "Epoch 31/100\n",
            "\u001b[1m254/254\u001b[0m \u001b[32m━━━━━━━━━━━━━━━━━━━━\u001b[0m\u001b[37m\u001b[0m \u001b[1m1s\u001b[0m 2ms/step - accuracy: 0.4329 - loss: 1.2953 - val_accuracy: 0.5288 - val_loss: 1.1210\n",
            "Epoch 32/100\n",
            "\u001b[1m254/254\u001b[0m \u001b[32m━━━━━━━━━━━━━━━━━━━━\u001b[0m\u001b[37m\u001b[0m \u001b[1m1s\u001b[0m 2ms/step - accuracy: 0.4321 - loss: 1.2367 - val_accuracy: 0.4921 - val_loss: 1.1221\n",
            "Epoch 33/100\n",
            "\u001b[1m254/254\u001b[0m \u001b[32m━━━━━━━━━━━━━━━━━━━━\u001b[0m\u001b[37m\u001b[0m \u001b[1m1s\u001b[0m 2ms/step - accuracy: 0.4661 - loss: 1.2757 - val_accuracy: 0.5131 - val_loss: 1.1177\n",
            "Epoch 34/100\n",
            "\u001b[1m254/254\u001b[0m \u001b[32m━━━━━━━━━━━━━━━━━━━━\u001b[0m\u001b[37m\u001b[0m \u001b[1m1s\u001b[0m 2ms/step - accuracy: 0.4477 - loss: 1.2306 - val_accuracy: 0.5079 - val_loss: 1.1228\n",
            "Epoch 35/100\n",
            "\u001b[1m254/254\u001b[0m \u001b[32m━━━━━━━━━━━━━━━━━━━━\u001b[0m\u001b[37m\u001b[0m \u001b[1m1s\u001b[0m 2ms/step - accuracy: 0.4899 - loss: 1.1747 - val_accuracy: 0.5131 - val_loss: 1.1227\n",
            "Epoch 36/100\n",
            "\u001b[1m254/254\u001b[0m \u001b[32m━━━━━━━━━━━━━━━━━━━━\u001b[0m\u001b[37m\u001b[0m \u001b[1m1s\u001b[0m 2ms/step - accuracy: 0.4363 - loss: 1.1417 - val_accuracy: 0.4974 - val_loss: 1.1271\n",
            "Epoch 37/100\n",
            "\u001b[1m254/254\u001b[0m \u001b[32m━━━━━━━━━━━━━━━━━━━━\u001b[0m\u001b[37m\u001b[0m \u001b[1m1s\u001b[0m 2ms/step - accuracy: 0.4448 - loss: 1.2624 - val_accuracy: 0.5079 - val_loss: 1.1259\n",
            "Epoch 38/100\n",
            "\u001b[1m254/254\u001b[0m \u001b[32m━━━━━━━━━━━━━━━━━━━━\u001b[0m\u001b[37m\u001b[0m \u001b[1m1s\u001b[0m 2ms/step - accuracy: 0.4527 - loss: 1.1900 - val_accuracy: 0.5079 - val_loss: 1.1240\n",
            "Epoch 39/100\n",
            "\u001b[1m254/254\u001b[0m \u001b[32m━━━━━━━━━━━━━━━━━━━━\u001b[0m\u001b[37m\u001b[0m \u001b[1m1s\u001b[0m 2ms/step - accuracy: 0.4511 - loss: 1.2430 - val_accuracy: 0.5131 - val_loss: 1.1238\n",
            "Epoch 40/100\n",
            "\u001b[1m254/254\u001b[0m \u001b[32m━━━━━━━━━━━━━━━━━━━━\u001b[0m\u001b[37m\u001b[0m \u001b[1m1s\u001b[0m 2ms/step - accuracy: 0.4651 - loss: 1.2254 - val_accuracy: 0.5079 - val_loss: 1.1213\n",
            "Epoch 41/100\n",
            "\u001b[1m254/254\u001b[0m \u001b[32m━━━━━━━━━━━━━━━━━━━━\u001b[0m\u001b[37m\u001b[0m \u001b[1m1s\u001b[0m 2ms/step - accuracy: 0.4362 - loss: 1.2475 - val_accuracy: 0.4921 - val_loss: 1.1239\n",
            "Epoch 42/100\n",
            "\u001b[1m254/254\u001b[0m \u001b[32m━━━━━━━━━━━━━━━━━━━━\u001b[0m\u001b[37m\u001b[0m \u001b[1m1s\u001b[0m 2ms/step - accuracy: 0.4408 - loss: 1.2222 - val_accuracy: 0.5079 - val_loss: 1.1228\n",
            "Epoch 43/100\n",
            "\u001b[1m254/254\u001b[0m \u001b[32m━━━━━━━━━━━━━━━━━━━━\u001b[0m\u001b[37m\u001b[0m \u001b[1m1s\u001b[0m 2ms/step - accuracy: 0.4484 - loss: 1.1763 - val_accuracy: 0.5340 - val_loss: 1.1177\n",
            "Epoch 44/100\n",
            "\u001b[1m254/254\u001b[0m \u001b[32m━━━━━━━━━━━━━━━━━━━━\u001b[0m\u001b[37m\u001b[0m \u001b[1m1s\u001b[0m 2ms/step - accuracy: 0.4316 - loss: 1.2094 - val_accuracy: 0.5131 - val_loss: 1.1160\n",
            "Epoch 45/100\n",
            "\u001b[1m254/254\u001b[0m \u001b[32m━━━━━━━━━━━━━━━━━━━━\u001b[0m\u001b[37m\u001b[0m \u001b[1m1s\u001b[0m 2ms/step - accuracy: 0.4621 - loss: 1.1560 - val_accuracy: 0.5079 - val_loss: 1.1211\n",
            "Epoch 46/100\n",
            "\u001b[1m254/254\u001b[0m \u001b[32m━━━━━━━━━━━━━━━━━━━━\u001b[0m\u001b[37m\u001b[0m \u001b[1m1s\u001b[0m 3ms/step - accuracy: 0.4857 - loss: 1.2209 - val_accuracy: 0.5340 - val_loss: 1.1189\n",
            "Epoch 47/100\n",
            "\u001b[1m254/254\u001b[0m \u001b[32m━━━━━━━━━━━━━━━━━━━━\u001b[0m\u001b[37m\u001b[0m \u001b[1m1s\u001b[0m 3ms/step - accuracy: 0.5098 - loss: 1.2113 - val_accuracy: 0.5393 - val_loss: 1.1147\n",
            "Epoch 48/100\n",
            "\u001b[1m254/254\u001b[0m \u001b[32m━━━━━━━━━━━━━━━━━━━━\u001b[0m\u001b[37m\u001b[0m \u001b[1m1s\u001b[0m 4ms/step - accuracy: 0.4312 - loss: 1.1630 - val_accuracy: 0.5183 - val_loss: 1.1206\n",
            "Epoch 49/100\n",
            "\u001b[1m254/254\u001b[0m \u001b[32m━━━━━━━━━━━━━━━━━━━━\u001b[0m\u001b[37m\u001b[0m \u001b[1m1s\u001b[0m 2ms/step - accuracy: 0.4367 - loss: 1.1819 - val_accuracy: 0.5131 - val_loss: 1.1186\n",
            "Epoch 50/100\n",
            "\u001b[1m254/254\u001b[0m \u001b[32m━━━━━━━━━━━━━━━━━━━━\u001b[0m\u001b[37m\u001b[0m \u001b[1m1s\u001b[0m 2ms/step - accuracy: 0.5060 - loss: 1.1708 - val_accuracy: 0.5288 - val_loss: 1.1188\n",
            "Epoch 51/100\n",
            "\u001b[1m254/254\u001b[0m \u001b[32m━━━━━━━━━━━━━━━━━━━━\u001b[0m\u001b[37m\u001b[0m \u001b[1m1s\u001b[0m 2ms/step - accuracy: 0.5042 - loss: 1.1990 - val_accuracy: 0.5288 - val_loss: 1.1146\n",
            "Epoch 52/100\n",
            "\u001b[1m254/254\u001b[0m \u001b[32m━━━━━━━━━━━━━━━━━━━━\u001b[0m\u001b[37m\u001b[0m \u001b[1m1s\u001b[0m 2ms/step - accuracy: 0.4707 - loss: 1.2178 - val_accuracy: 0.5183 - val_loss: 1.1151\n",
            "Epoch 53/100\n",
            "\u001b[1m254/254\u001b[0m \u001b[32m━━━━━━━━━━━━━━━━━━━━\u001b[0m\u001b[37m\u001b[0m \u001b[1m1s\u001b[0m 2ms/step - accuracy: 0.4773 - loss: 1.1480 - val_accuracy: 0.5183 - val_loss: 1.1125\n",
            "Epoch 54/100\n",
            "\u001b[1m254/254\u001b[0m \u001b[32m━━━━━━━━━━━━━━━━━━━━\u001b[0m\u001b[37m\u001b[0m \u001b[1m1s\u001b[0m 2ms/step - accuracy: 0.4318 - loss: 1.2451 - val_accuracy: 0.5131 - val_loss: 1.1129\n",
            "Epoch 55/100\n",
            "\u001b[1m254/254\u001b[0m \u001b[32m━━━━━━━━━━━━━━━━━━━━\u001b[0m\u001b[37m\u001b[0m \u001b[1m1s\u001b[0m 2ms/step - accuracy: 0.4764 - loss: 1.1537 - val_accuracy: 0.5183 - val_loss: 1.1145\n",
            "Epoch 56/100\n",
            "\u001b[1m254/254\u001b[0m \u001b[32m━━━━━━━━━━━━━━━━━━━━\u001b[0m\u001b[37m\u001b[0m \u001b[1m1s\u001b[0m 2ms/step - accuracy: 0.4812 - loss: 1.1959 - val_accuracy: 0.5340 - val_loss: 1.1093\n",
            "Epoch 57/100\n",
            "\u001b[1m254/254\u001b[0m \u001b[32m━━━━━━━━━━━━━━━━━━━━\u001b[0m\u001b[37m\u001b[0m \u001b[1m1s\u001b[0m 2ms/step - accuracy: 0.4981 - loss: 1.1362 - val_accuracy: 0.5445 - val_loss: 1.1119\n",
            "Epoch 58/100\n",
            "\u001b[1m254/254\u001b[0m \u001b[32m━━━━━━━━━━━━━━━━━━━━\u001b[0m\u001b[37m\u001b[0m \u001b[1m1s\u001b[0m 2ms/step - accuracy: 0.4368 - loss: 1.1663 - val_accuracy: 0.5340 - val_loss: 1.1107\n",
            "Epoch 59/100\n",
            "\u001b[1m254/254\u001b[0m \u001b[32m━━━━━━━━━━━━━━━━━━━━\u001b[0m\u001b[37m\u001b[0m \u001b[1m1s\u001b[0m 2ms/step - accuracy: 0.4638 - loss: 1.2126 - val_accuracy: 0.5393 - val_loss: 1.1098\n",
            "Epoch 60/100\n",
            "\u001b[1m254/254\u001b[0m \u001b[32m━━━━━━━━━━━━━━━━━━━━\u001b[0m\u001b[37m\u001b[0m \u001b[1m1s\u001b[0m 2ms/step - accuracy: 0.4668 - loss: 1.1755 - val_accuracy: 0.5393 - val_loss: 1.1095\n",
            "Epoch 61/100\n",
            "\u001b[1m254/254\u001b[0m \u001b[32m━━━━━━━━━━━━━━━━━━━━\u001b[0m\u001b[37m\u001b[0m \u001b[1m1s\u001b[0m 2ms/step - accuracy: 0.5057 - loss: 1.1588 - val_accuracy: 0.5445 - val_loss: 1.1095\n",
            "Epoch 62/100\n",
            "\u001b[1m254/254\u001b[0m \u001b[32m━━━━━━━━━━━━━━━━━━━━\u001b[0m\u001b[37m\u001b[0m \u001b[1m1s\u001b[0m 2ms/step - accuracy: 0.4527 - loss: 1.1543 - val_accuracy: 0.5340 - val_loss: 1.1068\n",
            "Epoch 63/100\n",
            "\u001b[1m254/254\u001b[0m \u001b[32m━━━━━━━━━━━━━━━━━━━━\u001b[0m\u001b[37m\u001b[0m \u001b[1m1s\u001b[0m 2ms/step - accuracy: 0.4755 - loss: 1.1540 - val_accuracy: 0.5340 - val_loss: 1.1054\n",
            "Epoch 64/100\n",
            "\u001b[1m254/254\u001b[0m \u001b[32m━━━━━━━━━━━━━━━━━━━━\u001b[0m\u001b[37m\u001b[0m \u001b[1m1s\u001b[0m 2ms/step - accuracy: 0.4578 - loss: 1.1982 - val_accuracy: 0.5445 - val_loss: 1.1074\n",
            "Epoch 65/100\n",
            "\u001b[1m254/254\u001b[0m \u001b[32m━━━━━━━━━━━━━━━━━━━━\u001b[0m\u001b[37m\u001b[0m \u001b[1m1s\u001b[0m 4ms/step - accuracy: 0.4529 - loss: 1.1641 - val_accuracy: 0.5445 - val_loss: 1.1090\n",
            "Epoch 66/100\n",
            "\u001b[1m254/254\u001b[0m \u001b[32m━━━━━━━━━━━━━━━━━━━━\u001b[0m\u001b[37m\u001b[0m \u001b[1m1s\u001b[0m 3ms/step - accuracy: 0.4794 - loss: 1.1830 - val_accuracy: 0.5497 - val_loss: 1.1037\n",
            "Epoch 67/100\n",
            "\u001b[1m254/254\u001b[0m \u001b[32m━━━━━━━━━━━━━━━━━━━━\u001b[0m\u001b[37m\u001b[0m \u001b[1m1s\u001b[0m 4ms/step - accuracy: 0.4701 - loss: 1.1456 - val_accuracy: 0.5445 - val_loss: 1.1002\n",
            "Epoch 68/100\n",
            "\u001b[1m254/254\u001b[0m \u001b[32m━━━━━━━━━━━━━━━━━━━━\u001b[0m\u001b[37m\u001b[0m \u001b[1m1s\u001b[0m 4ms/step - accuracy: 0.5061 - loss: 1.1106 - val_accuracy: 0.5602 - val_loss: 1.1031\n",
            "Epoch 69/100\n",
            "\u001b[1m254/254\u001b[0m \u001b[32m━━━━━━━━━━━━━━━━━━━━\u001b[0m\u001b[37m\u001b[0m \u001b[1m1s\u001b[0m 4ms/step - accuracy: 0.5158 - loss: 1.1570 - val_accuracy: 0.5445 - val_loss: 1.1037\n",
            "Epoch 70/100\n",
            "\u001b[1m254/254\u001b[0m \u001b[32m━━━━━━━━━━━━━━━━━━━━\u001b[0m\u001b[37m\u001b[0m \u001b[1m1s\u001b[0m 4ms/step - accuracy: 0.4486 - loss: 1.1761 - val_accuracy: 0.5497 - val_loss: 1.1026\n",
            "Epoch 71/100\n",
            "\u001b[1m254/254\u001b[0m \u001b[32m━━━━━━━━━━━━━━━━━━━━\u001b[0m\u001b[37m\u001b[0m \u001b[1m1s\u001b[0m 4ms/step - accuracy: 0.4930 - loss: 1.1337 - val_accuracy: 0.5445 - val_loss: 1.1017\n",
            "Epoch 72/100\n",
            "\u001b[1m254/254\u001b[0m \u001b[32m━━━━━━━━━━━━━━━━━━━━\u001b[0m\u001b[37m\u001b[0m \u001b[1m1s\u001b[0m 3ms/step - accuracy: 0.5038 - loss: 1.1239 - val_accuracy: 0.5445 - val_loss: 1.1030\n",
            "Epoch 73/100\n",
            "\u001b[1m254/254\u001b[0m \u001b[32m━━━━━━━━━━━━━━━━━━━━\u001b[0m\u001b[37m\u001b[0m \u001b[1m1s\u001b[0m 2ms/step - accuracy: 0.4756 - loss: 1.1289 - val_accuracy: 0.5340 - val_loss: 1.1053\n",
            "Epoch 74/100\n",
            "\u001b[1m254/254\u001b[0m \u001b[32m━━━━━━━━━━━━━━━━━━━━\u001b[0m\u001b[37m\u001b[0m \u001b[1m1s\u001b[0m 2ms/step - accuracy: 0.4644 - loss: 1.1921 - val_accuracy: 0.5497 - val_loss: 1.0990\n",
            "Epoch 75/100\n",
            "\u001b[1m254/254\u001b[0m \u001b[32m━━━━━━━━━━━━━━━━━━━━\u001b[0m\u001b[37m\u001b[0m \u001b[1m1s\u001b[0m 2ms/step - accuracy: 0.4880 - loss: 1.1092 - val_accuracy: 0.5497 - val_loss: 1.1066\n",
            "Epoch 76/100\n",
            "\u001b[1m254/254\u001b[0m \u001b[32m━━━━━━━━━━━━━━━━━━━━\u001b[0m\u001b[37m\u001b[0m \u001b[1m1s\u001b[0m 2ms/step - accuracy: 0.4862 - loss: 1.1515 - val_accuracy: 0.5445 - val_loss: 1.1076\n",
            "Epoch 77/100\n",
            "\u001b[1m254/254\u001b[0m \u001b[32m━━━━━━━━━━━━━━━━━━━━\u001b[0m\u001b[37m\u001b[0m \u001b[1m1s\u001b[0m 2ms/step - accuracy: 0.4926 - loss: 1.2597 - val_accuracy: 0.5393 - val_loss: 1.1022\n",
            "Epoch 78/100\n",
            "\u001b[1m254/254\u001b[0m \u001b[32m━━━━━━━━━━━━━━━━━━━━\u001b[0m\u001b[37m\u001b[0m \u001b[1m1s\u001b[0m 2ms/step - accuracy: 0.5083 - loss: 1.1247 - val_accuracy: 0.5445 - val_loss: 1.0999\n",
            "Epoch 79/100\n",
            "\u001b[1m254/254\u001b[0m \u001b[32m━━━━━━━━━━━━━━━━━━━━\u001b[0m\u001b[37m\u001b[0m \u001b[1m1s\u001b[0m 2ms/step - accuracy: 0.5025 - loss: 1.1337 - val_accuracy: 0.5393 - val_loss: 1.1012\n",
            "Epoch 80/100\n",
            "\u001b[1m254/254\u001b[0m \u001b[32m━━━━━━━━━━━━━━━━━━━━\u001b[0m\u001b[37m\u001b[0m \u001b[1m1s\u001b[0m 2ms/step - accuracy: 0.5238 - loss: 1.0999 - val_accuracy: 0.5393 - val_loss: 1.1036\n",
            "Epoch 81/100\n",
            "\u001b[1m254/254\u001b[0m \u001b[32m━━━━━━━━━━━━━━━━━━━━\u001b[0m\u001b[37m\u001b[0m \u001b[1m1s\u001b[0m 2ms/step - accuracy: 0.4874 - loss: 1.1740 - val_accuracy: 0.5393 - val_loss: 1.1009\n",
            "Epoch 82/100\n",
            "\u001b[1m254/254\u001b[0m \u001b[32m━━━━━━━━━━━━━━━━━━━━\u001b[0m\u001b[37m\u001b[0m \u001b[1m1s\u001b[0m 2ms/step - accuracy: 0.4948 - loss: 1.1557 - val_accuracy: 0.5340 - val_loss: 1.1019\n",
            "Epoch 83/100\n",
            "\u001b[1m254/254\u001b[0m \u001b[32m━━━━━━━━━━━━━━━━━━━━\u001b[0m\u001b[37m\u001b[0m \u001b[1m1s\u001b[0m 2ms/step - accuracy: 0.5242 - loss: 1.1351 - val_accuracy: 0.5445 - val_loss: 1.1027\n",
            "Epoch 84/100\n",
            "\u001b[1m254/254\u001b[0m \u001b[32m━━━━━━━━━━━━━━━━━━━━\u001b[0m\u001b[37m\u001b[0m \u001b[1m1s\u001b[0m 2ms/step - accuracy: 0.4854 - loss: 1.1328 - val_accuracy: 0.5393 - val_loss: 1.1007\n",
            "Epoch 85/100\n",
            "\u001b[1m254/254\u001b[0m \u001b[32m━━━━━━━━━━━━━━━━━━━━\u001b[0m\u001b[37m\u001b[0m \u001b[1m1s\u001b[0m 2ms/step - accuracy: 0.4983 - loss: 1.2011 - val_accuracy: 0.5393 - val_loss: 1.0996\n",
            "Epoch 86/100\n",
            "\u001b[1m254/254\u001b[0m \u001b[32m━━━━━━━━━━━━━━━━━━━━\u001b[0m\u001b[37m\u001b[0m \u001b[1m1s\u001b[0m 2ms/step - accuracy: 0.4441 - loss: 1.1865 - val_accuracy: 0.5445 - val_loss: 1.0989\n",
            "Epoch 87/100\n",
            "\u001b[1m254/254\u001b[0m \u001b[32m━━━━━━━━━━━━━━━━━━━━\u001b[0m\u001b[37m\u001b[0m \u001b[1m1s\u001b[0m 2ms/step - accuracy: 0.5283 - loss: 1.1279 - val_accuracy: 0.5497 - val_loss: 1.0908\n",
            "Epoch 88/100\n",
            "\u001b[1m254/254\u001b[0m \u001b[32m━━━━━━━━━━━━━━━━━━━━\u001b[0m\u001b[37m\u001b[0m \u001b[1m1s\u001b[0m 2ms/step - accuracy: 0.5172 - loss: 1.1145 - val_accuracy: 0.5550 - val_loss: 1.0886\n",
            "Epoch 89/100\n",
            "\u001b[1m254/254\u001b[0m \u001b[32m━━━━━━━━━━━━━━━━━━━━\u001b[0m\u001b[37m\u001b[0m \u001b[1m1s\u001b[0m 3ms/step - accuracy: 0.4974 - loss: 1.1287 - val_accuracy: 0.5550 - val_loss: 1.0905\n",
            "Epoch 90/100\n",
            "\u001b[1m254/254\u001b[0m \u001b[32m━━━━━━━━━━━━━━━━━━━━\u001b[0m\u001b[37m\u001b[0m \u001b[1m1s\u001b[0m 3ms/step - accuracy: 0.5087 - loss: 1.1128 - val_accuracy: 0.5550 - val_loss: 1.0904\n",
            "Epoch 91/100\n",
            "\u001b[1m254/254\u001b[0m \u001b[32m━━━━━━━━━━━━━━━━━━━━\u001b[0m\u001b[37m\u001b[0m \u001b[1m1s\u001b[0m 3ms/step - accuracy: 0.5517 - loss: 1.0810 - val_accuracy: 0.5550 - val_loss: 1.0903\n",
            "Epoch 92/100\n",
            "\u001b[1m254/254\u001b[0m \u001b[32m━━━━━━━━━━━━━━━━━━━━\u001b[0m\u001b[37m\u001b[0m \u001b[1m1s\u001b[0m 3ms/step - accuracy: 0.4679 - loss: 1.1590 - val_accuracy: 0.5550 - val_loss: 1.0909\n",
            "Epoch 93/100\n",
            "\u001b[1m254/254\u001b[0m \u001b[32m━━━━━━━━━━━━━━━━━━━━\u001b[0m\u001b[37m\u001b[0m \u001b[1m1s\u001b[0m 2ms/step - accuracy: 0.5000 - loss: 1.1312 - val_accuracy: 0.5550 - val_loss: 1.0822\n",
            "Epoch 94/100\n",
            "\u001b[1m254/254\u001b[0m \u001b[32m━━━━━━━━━━━━━━━━━━━━\u001b[0m\u001b[37m\u001b[0m \u001b[1m1s\u001b[0m 2ms/step - accuracy: 0.4993 - loss: 1.1832 - val_accuracy: 0.5602 - val_loss: 1.0890\n",
            "Epoch 95/100\n",
            "\u001b[1m254/254\u001b[0m \u001b[32m━━━━━━━━━━━━━━━━━━━━\u001b[0m\u001b[37m\u001b[0m \u001b[1m1s\u001b[0m 2ms/step - accuracy: 0.4659 - loss: 1.1676 - val_accuracy: 0.5550 - val_loss: 1.0818\n",
            "Epoch 96/100\n",
            "\u001b[1m254/254\u001b[0m \u001b[32m━━━━━━━━━━━━━━━━━━━━\u001b[0m\u001b[37m\u001b[0m \u001b[1m1s\u001b[0m 2ms/step - accuracy: 0.4541 - loss: 1.1444 - val_accuracy: 0.5602 - val_loss: 1.0920\n",
            "Epoch 97/100\n",
            "\u001b[1m254/254\u001b[0m \u001b[32m━━━━━━━━━━━━━━━━━━━━\u001b[0m\u001b[37m\u001b[0m \u001b[1m1s\u001b[0m 2ms/step - accuracy: 0.5113 - loss: 1.1612 - val_accuracy: 0.5550 - val_loss: 1.0909\n",
            "Epoch 98/100\n",
            "\u001b[1m254/254\u001b[0m \u001b[32m━━━━━━━━━━━━━━━━━━━━\u001b[0m\u001b[37m\u001b[0m \u001b[1m1s\u001b[0m 2ms/step - accuracy: 0.5118 - loss: 1.1066 - val_accuracy: 0.5550 - val_loss: 1.0875\n",
            "Epoch 99/100\n",
            "\u001b[1m254/254\u001b[0m \u001b[32m━━━━━━━━━━━━━━━━━━━━\u001b[0m\u001b[37m\u001b[0m \u001b[1m1s\u001b[0m 2ms/step - accuracy: 0.5165 - loss: 1.1762 - val_accuracy: 0.5550 - val_loss: 1.0839\n",
            "Epoch 100/100\n",
            "\u001b[1m254/254\u001b[0m \u001b[32m━━━━━━━━━━━━━━━━━━━━\u001b[0m\u001b[37m\u001b[0m \u001b[1m1s\u001b[0m 2ms/step - accuracy: 0.5136 - loss: 1.1669 - val_accuracy: 0.5550 - val_loss: 1.0787\n",
            "\u001b[1m13/13\u001b[0m \u001b[32m━━━━━━━━━━━━━━━━━━━━\u001b[0m\u001b[37m\u001b[0m \u001b[1m0s\u001b[0m 2ms/step - accuracy: 0.5183 - loss: 1.1490 \n",
            "Test accuracy: 0.4950980246067047\n"
          ]
        }
      ]
    },
    {
      "cell_type": "code",
      "source": [
        "# Plot training and validation loss\n",
        "plt.figure(figsize=(12, 4))\n",
        "plt.subplot(1, 2, 1)\n",
        "plt.plot(history.history['loss'], label='Training Loss')\n",
        "plt.plot(history.history['val_loss'], label='Validation Loss')\n",
        "plt.title('Training and Validation Loss')\n",
        "plt.xlabel('Epoch')\n",
        "plt.ylabel('Loss')\n",
        "plt.legend()\n",
        "\n",
        "# Plot training and validation accuracy\n",
        "plt.subplot(1, 2, 2)\n",
        "plt.plot(history.history['accuracy'], label='Training Accuracy')\n",
        "plt.plot(history.history['val_accuracy'], label='Validation Accuracy')\n",
        "plt.title('Training and Validation Accuracy')\n",
        "plt.xlabel('Epoch')\n",
        "plt.ylabel('Accuracy')\n",
        "plt.legend()\n",
        "\n",
        "plt.tight_layout()\n",
        "plt.show()"
      ],
      "metadata": {
        "colab": {
          "base_uri": "https://localhost:8080/",
          "height": 407
        },
        "id": "X5NyXzYNpCoU",
        "outputId": "0983ec02-f96f-4493-d0d4-9eccdd11490d"
      },
      "execution_count": null,
      "outputs": [
        {
          "output_type": "display_data",
          "data": {
            "text/plain": [
              "<Figure size 1200x400 with 2 Axes>"
            ],
            "image/png": "[encoded data removed]"
          },
          "metadata": {}
        }
      ]
    },
    {
      "cell_type": "markdown",
      "source": [
        "Insights:\n",
        "\n",
        "I adjusted the epochs from 10 to 100 which led to slight improvement.\n",
        "\n",
        "Loss: The training loss is decreasing significantly, while the validation loss has stabilized. This indicates that the model is learning effectively and not overfitting.\n",
        "\n",
        "Accuracy: Both training and validation accuracy are increasing, suggesting that the model is improving its performance on both seen and unseen data."
      ],
      "metadata": {
        "id": "qB2GV5-28VC4"
      }
    },
    {
      "cell_type": "markdown",
      "source": [
        "##Part B"
      ],
      "metadata": {
        "id": "8Y5VAKSoC8t9"
      }
    },
    {
      "cell_type": "markdown",
      "source": [
        "###1. Data Import and Exploration"
      ],
      "metadata": {
        "id": "fiCD6J8PDBeX"
      }
    },
    {
      "cell_type": "code",
      "source": [
        "f = h5py.File('/content/drive/MyDrive/python/CSV/Autonomous_Vehicles_SVHN_single_grey1.h5')"
      ],
      "metadata": {
        "id": "_CAYqN7hryCA"
      },
      "execution_count": null,
      "outputs": []
    },
    {
      "cell_type": "code",
      "source": [
        "print(list(f.keys())) #printing all the keys"
      ],
      "metadata": {
        "colab": {
          "base_uri": "https://localhost:8080/"
        },
        "id": "rpoTwjRrsGJ0",
        "outputId": "1e41df3b-5bbd-42e5-d7bd-a7813f9fb65f"
      },
      "execution_count": null,
      "outputs": [
        {
          "output_type": "stream",
          "name": "stdout",
          "text": [
            "['X_test', 'X_train', 'X_val', 'y_test', 'y_train', 'y_val']\n"
          ]
        }
      ]
    },
    {
      "cell_type": "code",
      "source": [
        "#splitting the data into train and test\n",
        "X_train = f['X_train'][:]\n",
        "X_val = f['X_val'][:]\n",
        "X_test = f['X_test'][:]\n",
        "y_train = f['y_train'][:]\n",
        "y_val = f['y_val'][:]\n",
        "y_test = f['y_test'][:]"
      ],
      "metadata": {
        "id": "Kg34eHsCt_fw"
      },
      "execution_count": null,
      "outputs": []
    },
    {
      "cell_type": "code",
      "source": [
        "print('X_train Shape:', X_train.shape)\n",
        "print('y_train Shape:', y_train.shape)\n",
        "print('X_val Shape:', X_val.shape)\n",
        "print('y_val Shape:', y_val.shape)\n",
        "print('X_test Shape:', X_test.shape)\n",
        "print('y_test Shape:', y_test.shape)"
      ],
      "metadata": {
        "colab": {
          "base_uri": "https://localhost:8080/"
        },
        "id": "1rXuNr8ZugLo",
        "outputId": "2eac60b8-d7cb-428f-e900-b74513ef67bf"
      },
      "execution_count": null,
      "outputs": [
        {
          "output_type": "stream",
          "name": "stdout",
          "text": [
            "X_train Shape: (42000, 32, 32)\n",
            "y_train Shape: (42000,)\n",
            "X_val Shape: (60000, 32, 32)\n",
            "y_val Shape: (60000,)\n",
            "X_test Shape: (18000, 32, 32)\n",
            "y_test Shape: (18000,)\n"
          ]
        }
      ]
    },
    {
      "cell_type": "markdown",
      "source": [
        "###2. Data Visualisation and preprocessing"
      ],
      "metadata": {
        "id": "AzOFBHu-vL9G"
      }
    },
    {
      "cell_type": "code",
      "source": [
        "#checking shape of the data\n",
        "print('X_train Shape:', X_train.shape)\n",
        "print('y_train Shape:', y_train.shape)\n",
        "print('X_val Shape:', X_val.shape)\n",
        "print('y_val Shape:', y_val.shape)\n",
        "print('X_test Shape:', X_test.shape)\n",
        "print('y_test Shape:', y_test.shape)"
      ],
      "metadata": {
        "colab": {
          "base_uri": "https://localhost:8080/"
        },
        "id": "KAijKTP2vkKI",
        "outputId": "b6ceec0e-ae3b-41e3-f845-b75cef5c0a81"
      },
      "execution_count": null,
      "outputs": [
        {
          "output_type": "stream",
          "name": "stdout",
          "text": [
            "X_train Shape: (42000, 32, 32)\n",
            "y_train Shape: (42000,)\n",
            "X_val Shape: (60000, 32, 32)\n",
            "y_val Shape: (60000,)\n",
            "X_test Shape: (18000, 32, 32)\n",
            "y_test Shape: (18000,)\n"
          ]
        }
      ]
    },
    {
      "cell_type": "code",
      "source": [
        "#visualizing first 10 images from training dataset\n",
        "plt.figure(figsize=(20,10))\n",
        "for i in range(10):\n",
        "  plt.subplot(2,5, i+1)\n",
        "  plt.imshow(X_train[i], cmap='gray')\n",
        "  plt.title(y_train[i])\n",
        "  plt.axis('off')"
      ],
      "metadata": {
        "colab": {
          "base_uri": "https://localhost:8080/",
          "height": 590
        },
        "id": "peOak0SDv7uh",
        "outputId": "6451a462-363f-4a81-ecb8-1bf24869cb75"
      },
      "execution_count": null,
      "outputs": [
        {
          "output_type": "display_data",
          "data": {
            "text/plain": [
              "<Figure size 2000x1000 with 10 Axes>"
            ],
            "image/png": "[encoded data removed]"
          },
          "metadata": {}
        }
      ]
    },
    {
      "cell_type": "code",
      "source": [
        "#calculating min and max values of the pixel\n",
        "X_train_min_max = X_train.min(), X_train.max()\n",
        "X_val_min_max = X_val.min(), X_val.max()\n",
        "X_test_min_max = X_test.min(), X_test.max()\n",
        "\n",
        "print('X_train Min Max:', X_train_min_max)\n",
        "print('X_val Min Max:', X_val_min_max)\n",
        "print('X_test Min Max:', X_test_min_max)"
      ],
      "metadata": {
        "colab": {
          "base_uri": "https://localhost:8080/"
        },
        "id": "rgQerGyo40bu",
        "outputId": "88b60d1f-fe3f-45fa-dea8-a8b97ef4637e"
      },
      "execution_count": null,
      "outputs": [
        {
          "output_type": "stream",
          "name": "stdout",
          "text": [
            "X_train Min Max: (0.0, 254.9745)\n",
            "X_val Min Max: (0.0, 254.9745)\n",
            "X_test Min Max: (0.0, 254.9745)\n"
          ]
        }
      ]
    },
    {
      "cell_type": "code",
      "source": [
        "#reshaping the data\n",
        "X_train = X_train.reshape(42000, 32*32)\n",
        "X_val = X_val.reshape(X_val.shape[0], 32*32)\n",
        "X_test = X_test.reshape(X_test.shape[0], 32*32)\n",
        "\n",
        "print('X_train Shape:', X_train.shape)\n",
        "print('X_val Shape:', X_val.shape)\n",
        "print('X_test Shape:', X_test.shape)"
      ],
      "metadata": {
        "colab": {
          "base_uri": "https://localhost:8080/"
        },
        "id": "dwnTZK_a_qBw",
        "outputId": "e8d63a00-3aed-4383-b81a-24e1176139f2"
      },
      "execution_count": null,
      "outputs": [
        {
          "output_type": "stream",
          "name": "stdout",
          "text": [
            "X_train Shape: (42000, 1024)\n",
            "X_val Shape: (60000, 1024)\n",
            "X_test Shape: (18000, 1024)\n"
          ]
        }
      ]
    },
    {
      "cell_type": "code",
      "source": [
        "# normalising the pixel values\n",
        "\n",
        "X_train = X_train / 255.0\n",
        "X_val = X_val / 255.0\n",
        "X_test = X_test / 255.0\n",
        "\n",
        "print('X_train Min Max:', X_train.min(), X_train.max())\n",
        "print('X_val Min Max:', X_val.min(), X_val.max())\n",
        "print('X_test Min Max:', X_test.min(), X_test.max())"
      ],
      "metadata": {
        "colab": {
          "base_uri": "https://localhost:8080/"
        },
        "id": "iCtNjlXy6FUd",
        "outputId": "baa6ac42-4ae3-4650-c959-512a21d31ebf"
      },
      "execution_count": null,
      "outputs": [
        {
          "output_type": "stream",
          "name": "stdout",
          "text": [
            "X_train Min Max: 0.0 0.9999\n",
            "X_val Min Max: 0.0 0.9999\n",
            "X_test Min Max: 0.0 0.9999\n"
          ]
        }
      ]
    },
    {
      "cell_type": "code",
      "source": [
        "#checking for unique values\n",
        "print('y_train unique values:', set(y_train))\n",
        "print('y_val unique values:', set(y_val))\n",
        "print('y_test unique values:', set(y_test))"
      ],
      "metadata": {
        "colab": {
          "base_uri": "https://localhost:8080/"
        },
        "id": "VPXKje8b8a4I",
        "outputId": "9e52b7e4-7d71-4476-d644-ef8c4541a126"
      },
      "execution_count": null,
      "outputs": [
        {
          "output_type": "stream",
          "name": "stdout",
          "text": [
            "y_train unique values: {0, 1, 2, 3, 4, 5, 6, 7, 8, 9}\n",
            "y_val unique values: {0, 1, 2, 3, 4, 5, 6, 7, 8, 9}\n",
            "y_test unique values: {0, 1, 2, 3, 4, 5, 6, 7, 8, 9}\n"
          ]
        }
      ]
    },
    {
      "cell_type": "code",
      "source": [
        "#transforming labels of train and test in one hot encoding\n",
        "y_train = tf.keras.utils.to_categorical(y_train, num_classes=10)\n",
        "y_val = tf.keras.utils.to_categorical(y_val, num_classes=10)\n",
        "y_test = tf.keras.utils.to_categorical(y_test, num_classes=10)\n",
        "print('After one hot encoding:', y_train[0])"
      ],
      "metadata": {
        "colab": {
          "base_uri": "https://localhost:8080/"
        },
        "id": "9sAskax3BdwA",
        "outputId": "bcc7948e-3ce5-4daa-f47b-048795e0abe4"
      },
      "execution_count": null,
      "outputs": [
        {
          "output_type": "stream",
          "name": "stdout",
          "text": [
            "After one hot encoding: [0. 0. 1. 0. 0. 0. 0. 0. 0. 0.]\n"
          ]
        }
      ]
    },
    {
      "cell_type": "code",
      "source": [
        "#checking total number of classes\n",
        "unique_classes_train = np.unique(y_train)\n",
        "unique_classes_val = np.unique(y_val)\n",
        "unique_classes_test = np.unique(y_test)\n",
        "\n",
        "total_classes = len(unique_classes_train) + len(unique_classes_val) + len(unique_classes_test)\n",
        "\n",
        "print('Total number of classes:', total_classes)"
      ],
      "metadata": {
        "colab": {
          "base_uri": "https://localhost:8080/"
        },
        "id": "R1C0_pUAEF2j",
        "outputId": "acdbaedd-41ea-4868-a15f-0878df77b3cf"
      },
      "execution_count": null,
      "outputs": [
        {
          "output_type": "stream",
          "name": "stdout",
          "text": [
            "Total number of classes: 6\n"
          ]
        }
      ]
    },
    {
      "cell_type": "markdown",
      "source": [
        "###3. Model Training & Evaluation using Neural Network"
      ],
      "metadata": {
        "id": "nudES86fFpmt"
      }
    },
    {
      "cell_type": "code",
      "source": [
        "#designing neural network to train a classifier\n",
        "model = tf.keras.Sequential([\n",
        "    tf.keras.layers.Dense(64, activation='relu', input_shape=(1024, )),\n",
        "    tf.keras.layers.Dense(32, activation='relu'),\n",
        "    tf.keras.layers.Dense(10, activation='softmax')])\n",
        "\n",
        "model.compile(optimizer='adam', loss='categorical_crossentropy', metrics=['accuracy'])\n",
        "\n",
        "history = model.fit(X_train, y_train, epochs=10, batch_size=32, validation_data=(X_val, y_val))"
      ],
      "metadata": {
        "colab": {
          "base_uri": "https://localhost:8080/"
        },
        "id": "7t6JDvZxTu5L",
        "outputId": "096e2638-5327-46a4-a771-3b1fd0ac315b"
      },
      "execution_count": null,
      "outputs": [
        {
          "output_type": "stream",
          "name": "stdout",
          "text": [
            "Epoch 1/10\n",
            "\u001b[1m1313/1313\u001b[0m \u001b[32m━━━━━━━━━━━━━━━━━━━━\u001b[0m\u001b[37m\u001b[0m \u001b[1m10s\u001b[0m 6ms/step - accuracy: 0.1157 - loss: 2.2884 - val_accuracy: 0.2661 - val_loss: 2.0034\n",
            "Epoch 2/10\n",
            "\u001b[1m1313/1313\u001b[0m \u001b[32m━━━━━━━━━━━━━━━━━━━━\u001b[0m\u001b[37m\u001b[0m \u001b[1m6s\u001b[0m 5ms/step - accuracy: 0.3379 - loss: 1.8494 - val_accuracy: 0.4793 - val_loss: 1.5174\n",
            "Epoch 3/10\n",
            "\u001b[1m1313/1313\u001b[0m \u001b[32m━━━━━━━━━━━━━━━━━━━━\u001b[0m\u001b[37m\u001b[0m \u001b[1m9s\u001b[0m 7ms/step - accuracy: 0.4973 - loss: 1.4906 - val_accuracy: 0.5424 - val_loss: 1.3810\n",
            "Epoch 4/10\n",
            "\u001b[1m1313/1313\u001b[0m \u001b[32m━━━━━━━━━━━━━━━━━━━━\u001b[0m\u001b[37m\u001b[0m \u001b[1m6s\u001b[0m 5ms/step - accuracy: 0.5441 - loss: 1.3797 - val_accuracy: 0.6035 - val_loss: 1.2547\n",
            "Epoch 5/10\n",
            "\u001b[1m1313/1313\u001b[0m \u001b[32m━━━━━━━━━━━━━━━━━━━━\u001b[0m\u001b[37m\u001b[0m \u001b[1m10s\u001b[0m 5ms/step - accuracy: 0.5959 - loss: 1.2690 - val_accuracy: 0.6202 - val_loss: 1.2060\n",
            "Epoch 6/10\n",
            "\u001b[1m1313/1313\u001b[0m \u001b[32m━━━━━━━━━━━━━━━━━━━━\u001b[0m\u001b[37m\u001b[0m \u001b[1m12s\u001b[0m 6ms/step - accuracy: 0.6198 - loss: 1.2050 - val_accuracy: 0.6347 - val_loss: 1.1628\n",
            "Epoch 7/10\n",
            "\u001b[1m1313/1313\u001b[0m \u001b[32m━━━━━━━━━━━━━━━━━━━━\u001b[0m\u001b[37m\u001b[0m \u001b[1m6s\u001b[0m 5ms/step - accuracy: 0.6364 - loss: 1.1672 - val_accuracy: 0.6580 - val_loss: 1.1040\n",
            "Epoch 8/10\n",
            "\u001b[1m1313/1313\u001b[0m \u001b[32m━━━━━━━━━━━━━━━━━━━━\u001b[0m\u001b[37m\u001b[0m \u001b[1m10s\u001b[0m 5ms/step - accuracy: 0.6466 - loss: 1.1310 - val_accuracy: 0.6624 - val_loss: 1.0958\n",
            "Epoch 9/10\n",
            "\u001b[1m1313/1313\u001b[0m \u001b[32m━━━━━━━━━━━━━━━━━━━━\u001b[0m\u001b[37m\u001b[0m \u001b[1m12s\u001b[0m 6ms/step - accuracy: 0.6629 - loss: 1.0906 - val_accuracy: 0.6765 - val_loss: 1.0641\n",
            "Epoch 10/10\n",
            "\u001b[1m1313/1313\u001b[0m \u001b[32m━━━━━━━━━━━━━━━━━━━━\u001b[0m\u001b[37m\u001b[0m \u001b[1m11s\u001b[0m 7ms/step - accuracy: 0.6718 - loss: 1.0695 - val_accuracy: 0.6675 - val_loss: 1.0753\n"
          ]
        }
      ]
    },
    {
      "cell_type": "code",
      "source": [
        "#evaluating metrics\n",
        "score = model.evaluate(X_test, y_test, verbose=0)\n",
        "print('Test loss:', score[0])\n",
        "print('Test accuracy:', score[1])\n",
        "\n",
        "score = model.evaluate(X_val, y_val, verbose=0)\n",
        "print('\\nValidation loss:', score[0])\n",
        "print('Validation accuracy:', score[1])\n",
        "\n",
        "score = model.evaluate(X_train, y_train, verbose=0)\n",
        "print('\\nTrain loss:', score[0])\n",
        "print('Train accuracy:', score[1])"
      ],
      "metadata": {
        "colab": {
          "base_uri": "https://localhost:8080/"
        },
        "id": "xLtRu8TmKxHu",
        "outputId": "51da841f-724d-4774-98a3-1e36a8903bfb"
      },
      "execution_count": null,
      "outputs": [
        {
          "output_type": "stream",
          "name": "stdout",
          "text": [
            "Test loss: 1.0849547386169434\n",
            "Test accuracy: 0.6653333306312561\n",
            "\n",
            "Validation loss: 1.0752747058868408\n",
            "Validation accuracy: 0.6674500107765198\n",
            "\n",
            "Train loss: 1.071126103401184\n",
            "Train accuracy: 0.6683571338653564\n"
          ]
        }
      ]
    },
    {
      "cell_type": "code",
      "source": [
        "#Plotting the training loss, validation loss vs number of epochs and training accuracy, validation accuracy vs number of epochs plot and write your observations on the same.\n",
        "plt.figure(figsize=(12,4))\n",
        "plt.subplot(1,2,1)\n",
        "plt.plot(history.history['loss'], label='Training Loss')\n",
        "plt.plot(history.history['val_loss'], label='Validation Loss')\n",
        "plt.title('Training and Validation Loss')\n",
        "plt.xlabel('Epoch')\n",
        "plt.ylabel('Loss')\n",
        "plt.legend()\n",
        "\n",
        "plt.subplot(1,2,2)\n",
        "plt.plot(history.history['accuracy'], label='Training Accuracy')\n",
        "plt.plot(history.history['val_accuracy'], label='Validation Accuracy')\n",
        "plt.title('Training and Validation Accuracy')\n",
        "plt.xlabel('Epoch')\n",
        "plt.ylabel('Accuracy')\n",
        "plt.legend()\n",
        "\n",
        "plt.tight_layout()\n",
        "plt.show()"
      ],
      "metadata": {
        "colab": {
          "base_uri": "https://localhost:8080/",
          "height": 407
        },
        "id": "y8NoeFXaL49y",
        "outputId": "fe739d65-0666-4a87-9522-50e182e96ec0"
      },
      "execution_count": null,
      "outputs": [
        {
          "output_type": "display_data",
          "data": {
            "text/plain": [
              "<Figure size 1200x400 with 2 Axes>"
            ],
            "image/png": "[encoded data removed]"
          },
          "metadata": {}
        }
      ]
    },
    {
      "cell_type": "markdown",
      "source": [
        "Observations:\n",
        "\n",
        "Loss:\n",
        "Both training and validation loss decrease over the epochs, indicating that the model is learning.\n",
        "The training loss is consistently lower than the validation loss, suggesting a degree of overfitting. The model is performing better on the training data than on unseen validation data.\n",
        "\n",
        "Accuracy:\n",
        "Both training and validation accuracy increase over the epochs, which is a positive sign.\n",
        "The training accuracy is slightly higher than the validation accuracy, again indicating a degree of overfitting."
      ],
      "metadata": {
        "id": "t3RKT1NsWBsc"
      }
    }
  ]
}